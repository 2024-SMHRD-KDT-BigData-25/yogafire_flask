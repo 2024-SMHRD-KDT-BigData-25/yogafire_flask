{
 "cells": [
  {
   "cell_type": "code",
   "execution_count": 1,
   "id": "84f64d18-342c-4651-a150-aa1068fd92bc",
   "metadata": {},
   "outputs": [
    {
     "name": "stdout",
     "output_type": "stream",
     "text": [
      "Requirement already satisfied: PyMySQL in c:\\users\\smhrd\\anaconda3\\envs\\opencv\\lib\\site-packages (1.1.1)\n"
     ]
    }
   ],
   "source": [
    "!pip install PyMySQL"
   ]
  },
  {
   "cell_type": "code",
   "execution_count": 1,
   "id": "f8cd9605-8ffb-403e-90d8-0502f8366938",
   "metadata": {},
   "outputs": [],
   "source": [
    "# from flask import Flask,render_template,request  ## flask 라이브러리에서 Flask import\n",
    "# import pymysql\n",
    "# import pandas as pd"
   ]
  },
  {
   "cell_type": "code",
   "execution_count": 24,
   "id": "74ae40fc-6524-4cd8-b6ec-3d4054ef1dfc",
   "metadata": {},
   "outputs": [
    {
     "name": "stdout",
     "output_type": "stream",
     "text": [
      " * Serving Flask app '__main__'\n",
      " * Debug mode: off\n"
     ]
    },
    {
     "name": "stderr",
     "output_type": "stream",
     "text": [
      "WARNING: This is a development server. Do not use it in a production deployment. Use a production WSGI server instead.\n",
      " * Running on http://localhost:8097\n",
      "Press CTRL+C to quit\n",
      "127.0.0.1 - - [09/Dec/2024 11:46:22] \"GET /boot/ex HTTP/1.1\" 404 -\n",
      "127.0.0.1 - - [09/Dec/2024 11:46:25] \"GET /boot/ HTTP/1.1\" 404 -\n",
      "127.0.0.1 - - [09/Dec/2024 11:46:28] \"GET /boot HTTP/1.1\" 404 -\n",
      "127.0.0.1 - - [09/Dec/2024 11:46:39] \"GET /boot/ex/vncj HTTP/1.1\" 200 -\n"
     ]
    },
    {
     "name": "stdout",
     "output_type": "stream",
     "text": [
      "vncj\n"
     ]
    },
    {
     "name": "stderr",
     "output_type": "stream",
     "text": [
      "127.0.0.1 - - [09/Dec/2024 11:46:39] \"GET /static/css/index10.css HTTP/1.1\" 304 -\n",
      "127.0.0.1 - - [09/Dec/2024 11:46:39] \"GET /video_feed HTTP/1.1\" 404 -\n",
      "127.0.0.1 - - [09/Dec/2024 11:46:39] \"GET /boot/img/아동자세.png HTTP/1.1\" 404 -\n",
      "127.0.0.1 - - [09/Dec/2024 11:50:55] \"GET /static/css/index10.css HTTP/1.1\" 304 -\n",
      "127.0.0.1 - - [09/Dec/2024 11:51:50] \"GET /boot/ex/vncj HTTP/1.1\" 200 -\n"
     ]
    },
    {
     "name": "stdout",
     "output_type": "stream",
     "text": [
      "vncj\n"
     ]
    },
    {
     "name": "stderr",
     "output_type": "stream",
     "text": [
      "127.0.0.1 - - [09/Dec/2024 11:51:51] \"GET /static/css/index10.css HTTP/1.1\" 304 -\n",
      "127.0.0.1 - - [09/Dec/2024 11:51:51] \"GET /video_feed HTTP/1.1\" 404 -\n",
      "127.0.0.1 - - [09/Dec/2024 11:51:51] \"GET /boot/img/아동자세.png HTTP/1.1\" 404 -\n"
     ]
    }
   ],
   "source": [
    "# app = Flask(__name__)\n",
    "\n",
    "# con = pymysql.connect(host='project-db-campus.smhrd.com', user='sc_24K_bigdata25_p3_4', password='smhrd4',\n",
    "#                       port=3312, db='sc_24K_bigdata25_p3_4', charset='utf8', # 한글처리 (charset = 'utf8')\n",
    "#                       autocommit=True # 결과 DB 반영 (Insert or update)\n",
    "#                      )\n",
    "# cur = con.cursor()\n",
    "\n",
    "# # @app.route('/boot/ex/<i nt:seqidx>/<user_id>')\n",
    "# # def hello_world(seqidx,user_id):\n",
    "# #     return render_template('eltag.html')\n",
    "\n",
    "# #@app.route('/boot/ex/<user_id>')\n",
    "# #def hello_world():\n",
    "# #    return render_template('hello2.html')\n",
    "# @app.route('/boot/ex/<id>')\n",
    "# def test_get(id):\n",
    "#     print(id);\n",
    "#     return render_template('index10.html', id=id)\n",
    "\n",
    "\n",
    "# if __name__ == \"__main__\":\n",
    "#     app.run(host='localhost', port=8097)"
   ]
  },
  {
   "cell_type": "code",
   "execution_count": 3,
   "id": "e559b7cb-99bc-4f11-a982-7b930d3bc17c",
   "metadata": {},
   "outputs": [
    {
     "data": {
      "text/plain": [
       "'C:\\\\Users\\\\USER\\\\yogafire'"
      ]
     },
     "execution_count": 3,
     "metadata": {},
     "output_type": "execute_result"
    }
   ],
   "source": [
    "os.getcwd()"
   ]
  },
  {
   "cell_type": "code",
   "execution_count": 77,
   "id": "2c45ee5d-59f7-48ab-b95d-cdaf4009ddf7",
   "metadata": {},
   "outputs": [],
   "source": [
    "from flask import Flask, render_template, Response\n",
    "import cv2\n",
    "import mediapipe as mp\n",
    "import numpy as np\n",
    "import pandas as pd\n",
    "import datetime\n",
    "import time\n",
    "import pymysql\n",
    "import os"
   ]
  },
  {
   "cell_type": "code",
   "execution_count": 78,
   "id": "910baf7d-2cef-4c98-977b-7b50e38276ec",
   "metadata": {},
   "outputs": [],
   "source": [
    "#점수 조정을 위한 함수 (수정가능)\n",
    "\n",
    "def sigmoid(x):\n",
    "    return 1 / (1 + np.exp(-x+1))"
   ]
  },
  {
   "cell_type": "code",
   "execution_count": 15,
   "id": "c2c7bfe7-3860-4b8d-8a9a-feaabd42c13b",
   "metadata": {
    "scrolled": true
   },
   "outputs": [],
   "source": [
    "from flask import Flask, render_template, Response, redirect\n",
    "import cv2\n",
    "import mediapipe as mp\n",
    "import numpy as np\n",
    "import pandas as pd\n",
    "import datetime\n",
    "import time\n",
    "import pymysql\n",
    "import os\n",
    "\n",
    "#점수 조정을 위한 함수 (수정가능)\n",
    "\n",
    "def sigmoid(x):\n",
    "    return 1 / (1 + np.exp(-x+1))\n",
    "\n",
    "app = Flask(__name__)\n",
    "\n",
    "con = pymysql.connect(host='project-db-campus.smhrd.com', user='sc_24K_bigdata25_p3_4', password='smhrd4',\n",
    "                      port=3312, db='sc_24K_bigdata25_p3_4', charset='utf8', # 한글처리 (charset = 'utf8')\n",
    "                      autocommit=True # 결과 DB 반영 (Insert or update)\n",
    "                     )\n",
    "cur = con.cursor()\n",
    "\n",
    "# 랜드마크 선택\n",
    "selected_landmarks = [0] + list(range(11, 17)) + list(range(23, 29))\n",
    "    \n",
    "# 컬럼 이름 정의\n",
    "columns = ['frame'] + [f'landmark{idx}_{axis}' for idx in selected_landmarks for axis in ['x', 'y']] + \\\n",
    "              ['neck_x', 'neck_y', 'hip_x', 'hip_y']\n",
    "\n",
    "\n",
    "def generate_frames(id, ps_idx, flow_order_idx):\n",
    "\n",
    "    # MediaPipe 초기화\n",
    "    mp_pose = mp.solutions.pose\n",
    "    pose = mp_pose.Pose(min_detection_confidence=0.5, min_tracking_confidence=0.5)\n",
    "\n",
    "    print('generate_frames 실행' ,id , ps_idx, flow_order_idx)\n",
    "    user_id = id\n",
    "    select_yoga = ps_idx\n",
    "    data = []\n",
    "    \n",
    "    try:\n",
    "        cap = cv2.VideoCapture(0)  # 카메라 열기\n",
    "        frame_idx = 0\n",
    "        start_time = time.time()\n",
    "        duration = 10  # 30초 동안 실행\n",
    "    \n",
    "        while cap.isOpened() and time.time() - start_time < duration:\n",
    "            ret, frame = cap.read()\n",
    "            if not ret:\n",
    "                break\n",
    "    \n",
    "            frame_idx += 1\n",
    "            rgb_frame = cv2.cvtColor(frame, cv2.COLOR_BGR2RGB)\n",
    "            results = pose.process(rgb_frame)\n",
    "            frame_data = [frame_idx]\n",
    "    \n",
    "            if results.pose_landmarks:\n",
    "                landmarks = results.pose_landmarks.landmark\n",
    "                for idx in selected_landmarks:\n",
    "                    landmark = landmarks[idx]\n",
    "                    frame_data.extend([landmark.x, landmark.y])\n",
    "    \n",
    "                # 목과 엉덩이 좌표 계산\n",
    "                neck_x = (landmarks[11].x + landmarks[12].x) / 2\n",
    "                neck_y = (landmarks[11].y + landmarks[12].y) / 2\n",
    "                hip_x = (landmarks[23].x + landmarks[24].x) / 2\n",
    "                hip_y = (landmarks[23].y + landmarks[24].y) / 2\n",
    "                frame_data.extend([neck_x, neck_y, hip_x, hip_y])\n",
    "    \n",
    "            else:\n",
    "                frame_data.extend([None, None] * len(selected_landmarks))\n",
    "                frame_data.extend([None, None, None, None])\n",
    "    \n",
    "            data.append(frame_data)\n",
    "    \n",
    "            # 시각화\n",
    "            if results.pose_landmarks:\n",
    "                landmarks = results.pose_landmarks.landmark\n",
    "                h, w, _ = frame.shape\n",
    "    \n",
    "                # 점 그리기\n",
    "                for idx in selected_landmarks:\n",
    "                    x, y = int(landmarks[idx].x * w), int(landmarks[idx].y * h)\n",
    "                    cv2.circle(frame, (x, y), 5, (255, 0, 0), -1)  # 파란색 점\n",
    "    \n",
    "                # 선 그리기\n",
    "                for connection in mp_pose.POSE_CONNECTIONS:\n",
    "                    start_idx, end_idx = connection\n",
    "                    if start_idx in selected_landmarks and end_idx in selected_landmarks:\n",
    "                        start_x, start_y = int(landmarks[start_idx].x * w), int(landmarks[start_idx].y * h)\n",
    "                        end_x, end_y = int(landmarks[end_idx].x * w), int(landmarks[end_idx].y * h)\n",
    "                        cv2.line(frame, (start_x, start_y), (end_x, end_y), (255, 255, 255), 2)  # 하얀색 선\n",
    "    \n",
    "            _, buffer = cv2.imencode('.jpg', frame)\n",
    "            frame = buffer.tobytes()\n",
    "    \n",
    "            yield (b'--frame\\r\\n'\n",
    "                   b'Content-Type: image/jpeg\\r\\n\\r\\n' + frame + b'\\r\\n')\n",
    "\n",
    "    except Exception as e:\n",
    "        print(f\"오류 발생: {e}\")\n",
    "    finally:\n",
    "        cap.release()  # 자원 해제\n",
    "        pose.close()  # MediaPipe 종료\n",
    "    \n",
    "    # CSV 저장\n",
    "    suffix = datetime.datetime.now().strftime('%Y%m%d_%H%M%S')\n",
    "    output_csv_path = f'./BPE/training/{user_id}_{suffix}.csv'\n",
    "    df = pd.DataFrame(data, columns=columns)\n",
    "    df.to_csv(output_csv_path, index=False)\n",
    "    print(f\"Joint 데이터를 {output_csv_path}에 저장했습니다.\")\n",
    "\n",
    "    #BPE 안의 모델 파일 실행 / training 안에 방금 저장된 유저의 파일과 , rightyogajoint에 미리 저장해둔 요가 자세의 올바른 자세 joint 값과 비교 \n",
    "    output = os.popen(f\"python BPE/inference_pair.py -v1 BPE/training/{user_id}_{suffix}.csv -v2 BPE/rightyogajoint/{select_yoga}.csv\").read()\n",
    "    #실행된 결과에서 score만 가져오기\n",
    "    list1 = output.split('\\n')\n",
    "    score_str = list1[-2]\n",
    "    # score 점수 조정\n",
    "    model_score = ((round(sigmoid((float(score_str.split(' ')[-1])))*10)*10))\n",
    "    activity_at = datetime.datetime.now().strftime('%Y-%m-%d')  # 활동 시간\n",
    "    activity_score = model_score  # 예시 점수\n",
    "    insert_user_data(id, flow_order_idx, activity_at, activity_score)\n",
    "    \n",
    "\n",
    "def recent_order(id, flow_idx) :\n",
    "    # activity_at -> datetime으로 바꿀수잇는지 물어보기\n",
    "    sql = 'select flow_ord from tmp where (id = %s) and (flow_idx = %s) limit 1'\n",
    "    cur.execute(sql, (id,flow_idx))\n",
    "    flow_ord = cur.fetchone()\n",
    "    # sql2 = 'select max(flow_ord) from flow_order where flow_idx = %s group by flow_idx;'\n",
    "    # cur.excute(sql2, (flow_idx,))\n",
    "    # last_ord = cur.fetchone()\n",
    "    if flow_ord :\n",
    "        # if flow_ord[0] == last_ord[0] :\n",
    "        #     print('시퀀스를 마지막까지 실행한 유저입니다.')\n",
    "        #     return 1\n",
    "        # else : \n",
    "        print('가장 최근의 flow_ord :', flow_ord[0])\n",
    "        return flow_ord[0] + 1\n",
    "    else :\n",
    "        print('id에 대한 최근 flow_ord가 없습니다.')\n",
    "        return 1\n",
    "\n",
    "def select_ps_data(flow_idx, flow_ord) :\n",
    "    # flow_ord와 flow_idx에 해당하는 ps_idx를 찾는 쿼리\n",
    "    sql = 'select ps_idx from flow_order where flow_idx = %s and flow_ord = %s'\n",
    "    cur.execute(sql, (flow_idx, flow_ord))\n",
    "    ps_idx = cur.fetchone()  # 쿼리 결과에서 첫 번째 값만 가져옵니다.  \n",
    "    print(ps_idx)\n",
    "    return ps_idx\n",
    "\n",
    "def select_order_data(flow_idx, flow_ord) :\n",
    "    print('select order data')\n",
    "    sql = 'select flow_order_idx from flow_order where flow_idx = %s and flow_ord = %s'\n",
    "    cur.execute(sql, (flow_idx, flow_ord))\n",
    "    flow_order_idx = cur.fetchone()  # 쿼리 결과에서 첫 번째 값만 가져옵니다.\n",
    "    print(flow_order_idx)\n",
    "    return flow_order_idx\n",
    "\n",
    "def select_flow_data(flow_idx) :\n",
    "    sql = 'select * from flow_info where flow_idx = %s'\n",
    "    cur.execute(sql, (flow_idx,))\n",
    "    flow_info = cur.fetchall()\n",
    "    print('select flow data 실행')\n",
    "    return flow_info\n",
    "\n",
    "def select_pose_data(ps_idx) :\n",
    "    sql = 'select* from pose_info where ps_idx = %s'\n",
    "    cur.execute(sql, (ps_idx,))\n",
    "    ps_info = cur.fetchall()\n",
    "    print('select pose data 실행')\n",
    "    return ps_info\n",
    "\n",
    "def insert_user_data(id, flow_order_idx, activity_at, activity_score) :\n",
    "    print('insert user data')\n",
    "    sql = 'insert into user_activity (id, flow_order_idx, activity_at, activity_score) values (%s, %s, %s, %s)'\n",
    "    cur.execute(sql, (id, flow_order_idx, activity_at, activity_score))\n",
    "    con.commit()\n",
    "    return activity_score\n",
    "    \n",
    "def select_score(flow_order_idx) :\n",
    "    sql = 'select activity_score from user_activity where flow_order_idx = %s'\n",
    "    cur.execute(sql, (flow_order_idx,))\n",
    "    activity_score = cur.fetchone()\n",
    "    print('점수 : ', flow_order_idx)\n",
    "    if activity_score is None:\n",
    "        print(f\"Activity score not found for flow_order_idx: {flow_order_idx}\")\n",
    "        return None\n",
    "    else:\n",
    "        print('점수:', activity_score[0])\n",
    "        return activity_score[0]\n"
   ]
  },
  {
   "cell_type": "code",
   "execution_count": 71,
   "id": "616a4b7e-e953-4613-a648-914a5ae3a919",
   "metadata": {},
   "outputs": [
    {
     "name": "stdout",
     "output_type": "stream",
     "text": [
      "40\n"
     ]
    }
   ],
   "source": [
    "score_str = '0.7119442'\n",
    "model_score = ((round(sigmoid((float(score_str.split(' ')[-1])))*10)*10))\n",
    "print(model_score)"
   ]
  },
  {
   "cell_type": "code",
   "execution_count": null,
   "id": "50f7060a-0c88-49da-9147-20c511ff3210",
   "metadata": {},
   "outputs": [
    {
     "name": "stdout",
     "output_type": "stream",
     "text": [
      " * Serving Flask app '__main__'\n",
      " * Debug mode: off\n"
     ]
    },
    {
     "name": "stderr",
     "output_type": "stream",
     "text": [
      "WARNING: This is a development server. Do not use it in a production deployment. Use a production WSGI server instead.\n",
      " * Running on http://localhost:8097\n",
      "Press CTRL+C to quit\n",
      "127.0.0.1 - - [14/Dec/2024 20:22:48] \"GET /boot/programs/test123/7 HTTP/1.1\" 200 -\n"
     ]
    },
    {
     "name": "stdout",
     "output_type": "stream",
     "text": [
      "flow_idx: 7\n",
      "id에 대한 최근 flow_ord가 없습니다.\n",
      "flow_ord: 1\n",
      "(51,)\n",
      "(51,)\n",
      "select order data\n",
      "(63,)\n",
      "flow_order_idx: (63,)\n",
      "select flow data 실행\n",
      "select pose data 실행\n",
      "점수 :  63\n",
      "점수: 80\n",
      "generate_frames 실행 test123 51 63\n"
     ]
    },
    {
     "name": "stderr",
     "output_type": "stream",
     "text": [
      "127.0.0.1 - - [14/Dec/2024 20:22:48] \"GET /static/css/programs.css HTTP/1.1\" 304 -\n",
      "127.0.0.1 - - [14/Dec/2024 20:22:48] \"GET /images/yogapose/10-5-1.png HTTP/1.1\" 404 -\n",
      "127.0.0.1 - - [14/Dec/2024 20:22:48] \"GET /images/yogapose/1-1-1.png HTTP/1.1\" 404 -\n",
      "127.0.0.1 - - [14/Dec/2024 20:22:48] \"GET /static/css/fire.css HTTP/1.1\" 304 -\n",
      "127.0.0.1 - - [14/Dec/2024 20:22:48] \"GET /images/yogapose/10-2.jpg HTTP/1.1\" 404 -\n",
      "127.0.0.1 - - [14/Dec/2024 20:22:49] \"GET /images/yogapose/10-3.jpg HTTP/1.1\" 404 -\n",
      "127.0.0.1 - - [14/Dec/2024 20:22:49] \"GET /static/js/programs.js HTTP/1.1\" 304 -\n",
      "127.0.0.1 - - [14/Dec/2024 20:22:49] \"GET /images/yogapose/10-4.jpg HTTP/1.1\" 404 -\n",
      "127.0.0.1 - - [14/Dec/2024 20:22:49] \"GET /images/yogapose/10-6.jpg HTTP/1.1\" 404 -\n",
      "127.0.0.1 - - [14/Dec/2024 20:22:49] \"GET /images/yogapose/10-7.jpg HTTP/1.1\" 404 -\n",
      "127.0.0.1 - - [14/Dec/2024 20:22:49] \"GET /images/yogapose/10-8.jpg HTTP/1.1\" 404 -\n",
      "127.0.0.1 - - [14/Dec/2024 20:22:52] \"GET /video_feed/test123/51/63 HTTP/1.1\" 200 -\n"
     ]
    },
    {
     "name": "stdout",
     "output_type": "stream",
     "text": [
      "Joint 데이터를 ./BPE/training/test123_20241214_202301.csv에 저장했습니다.\n"
     ]
    },
    {
     "name": "stderr",
     "output_type": "stream",
     "text": [
      "127.0.0.1 - - [14/Dec/2024 20:23:05] \"GET /boot/programs/test123/7 HTTP/1.1\" 200 -\n"
     ]
    },
    {
     "name": "stdout",
     "output_type": "stream",
     "text": [
      "flow_idx: 7\n",
      "id에 대한 최근 flow_ord가 없습니다.\n",
      "flow_ord: 1\n",
      "(51,)\n",
      "(51,)\n",
      "select order data\n",
      "(63,)\n",
      "flow_order_idx: (63,)\n",
      "select flow data 실행\n",
      "select pose data 실행\n",
      "점수 :  63\n",
      "점수: 80\n"
     ]
    },
    {
     "name": "stderr",
     "output_type": "stream",
     "text": [
      "127.0.0.1 - - [14/Dec/2024 20:23:05] \"GET /static/css/fire.css HTTP/1.1\" 304 -\n",
      "127.0.0.1 - - [14/Dec/2024 20:23:05] \"GET /static/css/programs.css HTTP/1.1\" 304 -\n",
      "127.0.0.1 - - [14/Dec/2024 20:23:05] \"GET /static/js/programs.js HTTP/1.1\" 304 -\n",
      "127.0.0.1 - - [14/Dec/2024 20:23:05] \"GET /images/yogapose/10-5-1.png HTTP/1.1\" 404 -\n",
      "127.0.0.1 - - [14/Dec/2024 20:23:05] \"GET /images/yogapose/1-1-1.png HTTP/1.1\" 404 -\n"
     ]
    },
    {
     "name": "stdout",
     "output_type": "stream",
     "text": [
      "generate_frames 실행 test123 51 63\n",
      "insert user data\n"
     ]
    },
    {
     "name": "stderr",
     "output_type": "stream",
     "text": [
      "127.0.0.1 - - [14/Dec/2024 20:23:06] \"GET /images/yogapose/10-8.jpg HTTP/1.1\" 404 -\n",
      "127.0.0.1 - - [14/Dec/2024 20:23:06] \"GET /images/yogapose/10-4.jpg HTTP/1.1\" 404 -\n",
      "127.0.0.1 - - [14/Dec/2024 20:23:06] \"GET /images/yogapose/10-6.jpg HTTP/1.1\" 404 -\n",
      "127.0.0.1 - - [14/Dec/2024 20:23:06] \"GET /images/yogapose/10-7.jpg HTTP/1.1\" 404 -\n",
      "127.0.0.1 - - [14/Dec/2024 20:23:06] \"GET /images/yogapose/10-2.jpg HTTP/1.1\" 404 -\n",
      "127.0.0.1 - - [14/Dec/2024 20:23:06] \"GET /images/yogapose/10-3.jpg HTTP/1.1\" 404 -\n",
      "127.0.0.1 - - [14/Dec/2024 20:23:08] \"GET /video_feed/test123/51/63 HTTP/1.1\" 200 -\n"
     ]
    },
    {
     "name": "stdout",
     "output_type": "stream",
     "text": [
      "Joint 데이터를 ./BPE/training/test123_20241214_202318.csv에 저장했습니다.\n"
     ]
    },
    {
     "name": "stderr",
     "output_type": "stream",
     "text": [
      "Error on request:\n",
      "Traceback (most recent call last):\n",
      "  File \"C:\\Users\\smhrd\\anaconda3\\envs\\opencv\\lib\\site-packages\\werkzeug\\serving.py\", line 370, in run_wsgi\n",
      "    execute(self.server.app)\n",
      "  File \"C:\\Users\\smhrd\\anaconda3\\envs\\opencv\\lib\\site-packages\\werkzeug\\serving.py\", line 333, in execute\n",
      "    for data in application_iter:\n",
      "  File \"C:\\Users\\smhrd\\anaconda3\\envs\\opencv\\lib\\site-packages\\werkzeug\\wsgi.py\", line 256, in __next__\n",
      "    return self._next()\n",
      "  File \"C:\\Users\\smhrd\\anaconda3\\envs\\opencv\\lib\\site-packages\\werkzeug\\wrappers\\response.py\", line 32, in _iter_encoded\n",
      "    for item in iterable:\n",
      "  File \"C:\\Users\\smhrd\\AppData\\Local\\Temp\\ipykernel_26172\\3134559513.py\", line 121, in generate_frames\n",
      "    model_score = ((round(sigmoid((float(score_str.split(' ')[-1])))*10)*10))\n",
      "ValueError: could not convert string to float: 'ready'\n",
      "127.0.0.1 - - [14/Dec/2024 20:23:26] \"GET /boot/programs/test123/7 HTTP/1.1\" 200 -\n"
     ]
    },
    {
     "name": "stdout",
     "output_type": "stream",
     "text": [
      "flow_idx: 7\n",
      "가장 최근의 flow_ord : 1\n",
      "flow_ord: 2\n",
      "(19,)\n",
      "(19,)\n",
      "select order data\n",
      "(64,)\n",
      "flow_order_idx: (64,)\n",
      "select flow data 실행\n",
      "select pose data 실행\n",
      "점수 :  64\n",
      "점수: 40\n",
      "flow_idx: None\n",
      "id에 대한 최근 flow_ord가 없습니다.\n",
      "flow_ord: 1\n",
      "None\n",
      "None\n",
      "select order data\n",
      "None\n",
      "flow_order_idx: None\n",
      "select flow data 실행\n",
      "select pose data 실행\n"
     ]
    },
    {
     "name": "stderr",
     "output_type": "stream",
     "text": [
      "[2024-12-14 20:23:26,551] ERROR in app: Exception on /boot/programs/test123/None [GET]\n",
      "Traceback (most recent call last):\n",
      "  File \"C:\\Users\\smhrd\\anaconda3\\envs\\opencv\\lib\\site-packages\\flask\\app.py\", line 1511, in wsgi_app\n",
      "    response = self.full_dispatch_request()\n",
      "  File \"C:\\Users\\smhrd\\anaconda3\\envs\\opencv\\lib\\site-packages\\flask\\app.py\", line 919, in full_dispatch_request\n",
      "    rv = self.handle_user_exception(e)\n",
      "  File \"C:\\Users\\smhrd\\anaconda3\\envs\\opencv\\lib\\site-packages\\flask\\app.py\", line 917, in full_dispatch_request\n",
      "    rv = self.dispatch_request()\n",
      "  File \"C:\\Users\\smhrd\\anaconda3\\envs\\opencv\\lib\\site-packages\\flask\\app.py\", line 902, in dispatch_request\n",
      "    return self.ensure_sync(self.view_functions[rule.endpoint])(**view_args)  # type: ignore[no-any-return]\n",
      "  File \"C:\\Users\\smhrd\\AppData\\Local\\Temp\\ipykernel_26172\\976296048.py\", line 18, in index\n",
      "    activity_score = select_score(flow_order_idx[0])\n",
      "TypeError: 'NoneType' object is not subscriptable\n",
      "127.0.0.1 - - [14/Dec/2024 20:23:26] \"GET /boot/programs/test123/None HTTP/1.1\" 500 -\n",
      "127.0.0.1 - - [14/Dec/2024 20:23:26] \"GET /static/css/programs.css HTTP/1.1\" 304 -\n",
      "127.0.0.1 - - [14/Dec/2024 20:23:26] \"GET /static/css/fire.css HTTP/1.1\" 304 -\n",
      "127.0.0.1 - - [14/Dec/2024 20:23:26] \"GET /static/js/programs.js HTTP/1.1\" 304 -\n",
      "127.0.0.1 - - [14/Dec/2024 20:23:26] \"GET /images/yogapose/10-6.jpg HTTP/1.1\" 404 -\n",
      "127.0.0.1 - - [14/Dec/2024 20:23:26] \"GET /images/yogapose/10-8.jpg HTTP/1.1\" 404 -\n",
      "127.0.0.1 - - [14/Dec/2024 20:23:26] \"GET /images/yogapose/10-7.jpg HTTP/1.1\" 404 -\n",
      "127.0.0.1 - - [14/Dec/2024 20:23:26] \"GET /images/yogapose/10-3.jpg HTTP/1.1\" 404 -\n",
      "127.0.0.1 - - [14/Dec/2024 20:23:27] \"GET /images/yogapose/10-4.jpg HTTP/1.1\" 404 -\n",
      "127.0.0.1 - - [14/Dec/2024 20:23:27] \"GET /images/yogapose/10-5-1.png HTTP/1.1\" 404 -\n",
      "127.0.0.1 - - [14/Dec/2024 20:23:27] \"GET /images/yogapose/1-1-1.png HTTP/1.1\" 404 -\n",
      "127.0.0.1 - - [14/Dec/2024 20:23:27] \"GET /images/yogapose/10-2.jpg HTTP/1.1\" 404 -\n"
     ]
    },
    {
     "name": "stdout",
     "output_type": "stream",
     "text": [
      "generate_frames 실행 test123 19 64\n"
     ]
    },
    {
     "name": "stderr",
     "output_type": "stream",
     "text": [
      "127.0.0.1 - - [14/Dec/2024 20:23:30] \"GET /video_feed/test123/19/64 HTTP/1.1\" 200 -\n"
     ]
    },
    {
     "name": "stdout",
     "output_type": "stream",
     "text": [
      "Joint 데이터를 ./BPE/training/test123_20241214_202339.csv에 저장했습니다.\n",
      "insert user data\n"
     ]
    },
    {
     "name": "stderr",
     "output_type": "stream",
     "text": [
      "127.0.0.1 - - [14/Dec/2024 20:23:47] \"GET /boot/programs/test123/7 HTTP/1.1\" 200 -\n"
     ]
    },
    {
     "name": "stdout",
     "output_type": "stream",
     "text": [
      "flow_idx: 7\n",
      "가장 최근의 flow_ord : 2\n",
      "flow_ord: 3\n",
      "(22,)\n",
      "(22,)\n",
      "select order data\n",
      "(65,)\n",
      "flow_order_idx: (65,)\n",
      "select flow data 실행\n",
      "select pose data 실행\n",
      "점수 :  65\n",
      "점수: 40\n",
      "flow_idx: None\n",
      "id에 대한 최근 flow_ord가 없습니다.\n",
      "flow_ord: 1\n",
      "None\n",
      "None\n",
      "select order data\n",
      "None\n",
      "flow_order_idx: None\n",
      "select flow data 실행\n"
     ]
    },
    {
     "name": "stderr",
     "output_type": "stream",
     "text": [
      "[2024-12-14 20:23:48,115] ERROR in app: Exception on /boot/programs/test123/None [GET]\n",
      "Traceback (most recent call last):\n",
      "  File \"C:\\Users\\smhrd\\anaconda3\\envs\\opencv\\lib\\site-packages\\flask\\app.py\", line 1511, in wsgi_app\n",
      "    response = self.full_dispatch_request()\n",
      "  File \"C:\\Users\\smhrd\\anaconda3\\envs\\opencv\\lib\\site-packages\\flask\\app.py\", line 919, in full_dispatch_request\n",
      "    rv = self.handle_user_exception(e)\n",
      "  File \"C:\\Users\\smhrd\\anaconda3\\envs\\opencv\\lib\\site-packages\\flask\\app.py\", line 917, in full_dispatch_request\n",
      "    rv = self.dispatch_request()\n",
      "  File \"C:\\Users\\smhrd\\anaconda3\\envs\\opencv\\lib\\site-packages\\flask\\app.py\", line 902, in dispatch_request\n",
      "    return self.ensure_sync(self.view_functions[rule.endpoint])(**view_args)  # type: ignore[no-any-return]\n",
      "  File \"C:\\Users\\smhrd\\AppData\\Local\\Temp\\ipykernel_26172\\976296048.py\", line 18, in index\n",
      "    activity_score = select_score(flow_order_idx[0])\n",
      "TypeError: 'NoneType' object is not subscriptable\n",
      "127.0.0.1 - - [14/Dec/2024 20:23:48] \"GET /boot/programs/test123/None HTTP/1.1\" 500 -\n",
      "127.0.0.1 - - [14/Dec/2024 20:23:48] \"GET /static/css/programs.css HTTP/1.1\" 304 -\n"
     ]
    },
    {
     "name": "stdout",
     "output_type": "stream",
     "text": [
      "select pose data 실행\n"
     ]
    },
    {
     "name": "stderr",
     "output_type": "stream",
     "text": [
      "127.0.0.1 - - [14/Dec/2024 20:23:48] \"GET /static/css/fire.css HTTP/1.1\" 304 -\n",
      "127.0.0.1 - - [14/Dec/2024 20:23:48] \"GET /images/yogapose/10-3.jpg HTTP/1.1\" 404 -\n",
      "127.0.0.1 - - [14/Dec/2024 20:23:48] \"GET /static/js/programs.js HTTP/1.1\" 304 -\n",
      "127.0.0.1 - - [14/Dec/2024 20:23:48] \"GET /images/yogapose/10-4.jpg HTTP/1.1\" 404 -\n",
      "127.0.0.1 - - [14/Dec/2024 20:23:48] \"GET /images/yogapose/10-7.jpg HTTP/1.1\" 404 -\n",
      "127.0.0.1 - - [14/Dec/2024 20:23:48] \"GET /images/yogapose/10-8.jpg HTTP/1.1\" 404 -\n",
      "127.0.0.1 - - [14/Dec/2024 20:23:48] \"GET /images/yogapose/10-6.jpg HTTP/1.1\" 404 -\n",
      "127.0.0.1 - - [14/Dec/2024 20:23:48] \"GET /images/yogapose/10-5-1.png HTTP/1.1\" 404 -\n",
      "127.0.0.1 - - [14/Dec/2024 20:23:48] \"GET /images/yogapose/1-1-1.png HTTP/1.1\" 404 -\n",
      "127.0.0.1 - - [14/Dec/2024 20:23:48] \"GET /images/yogapose/10-2.jpg HTTP/1.1\" 404 -\n"
     ]
    },
    {
     "name": "stdout",
     "output_type": "stream",
     "text": [
      "generate_frames 실행 test123 22 65\n"
     ]
    },
    {
     "name": "stderr",
     "output_type": "stream",
     "text": [
      "127.0.0.1 - - [14/Dec/2024 20:23:52] \"GET /video_feed/test123/22/65 HTTP/1.1\" 200 -\n"
     ]
    },
    {
     "name": "stdout",
     "output_type": "stream",
     "text": [
      "Joint 데이터를 ./BPE/training/test123_20241214_202401.csv에 저장했습니다.\n"
     ]
    },
    {
     "name": "stderr",
     "output_type": "stream",
     "text": [
      "127.0.0.1 - - [14/Dec/2024 20:24:05] \"GET /boot/programs/test123/7 HTTP/1.1\" 200 -\n"
     ]
    },
    {
     "name": "stdout",
     "output_type": "stream",
     "text": [
      "flow_idx: 7\n",
      "가장 최근의 flow_ord : 2\n",
      "flow_ord: 3\n",
      "(22,)\n",
      "(22,)\n",
      "select order data\n",
      "(65,)\n",
      "flow_order_idx: (65,)\n",
      "select flow data 실행\n",
      "select pose data 실행\n",
      "점수 :  65\n",
      "점수: 40\n"
     ]
    },
    {
     "name": "stderr",
     "output_type": "stream",
     "text": [
      "127.0.0.1 - - [14/Dec/2024 20:24:05] \"GET /static/css/programs.css HTTP/1.1\" 304 -\n",
      "127.0.0.1 - - [14/Dec/2024 20:24:05] \"GET /static/css/fire.css HTTP/1.1\" 304 -\n",
      "127.0.0.1 - - [14/Dec/2024 20:24:05] \"GET /static/js/programs.js HTTP/1.1\" 304 -\n",
      "127.0.0.1 - - [14/Dec/2024 20:24:05] \"GET /images/yogapose/10-5-1.png HTTP/1.1\" 404 -\n",
      "[2024-12-14 20:24:05,965] ERROR in app: Exception on /boot/programs/test123/None [GET]\n",
      "Traceback (most recent call last):\n",
      "  File \"C:\\Users\\smhrd\\anaconda3\\envs\\opencv\\lib\\site-packages\\flask\\app.py\", line 1511, in wsgi_app\n",
      "    response = self.full_dispatch_request()\n",
      "  File \"C:\\Users\\smhrd\\anaconda3\\envs\\opencv\\lib\\site-packages\\flask\\app.py\", line 919, in full_dispatch_request\n",
      "    rv = self.handle_user_exception(e)\n",
      "  File \"C:\\Users\\smhrd\\anaconda3\\envs\\opencv\\lib\\site-packages\\flask\\app.py\", line 917, in full_dispatch_request\n",
      "    rv = self.dispatch_request()\n",
      "  File \"C:\\Users\\smhrd\\anaconda3\\envs\\opencv\\lib\\site-packages\\flask\\app.py\", line 902, in dispatch_request\n",
      "    return self.ensure_sync(self.view_functions[rule.endpoint])(**view_args)  # type: ignore[no-any-return]\n",
      "  File \"C:\\Users\\smhrd\\AppData\\Local\\Temp\\ipykernel_26172\\976296048.py\", line 16, in index\n",
      "    flow_info = select_flow_data(flow_idx)\n",
      "  File \"C:\\Users\\smhrd\\AppData\\Local\\Temp\\ipykernel_26172\\3134559513.py\", line 164, in select_flow_data\n",
      "    cur.execute(sql, (flow_idx,))\n",
      "  File \"C:\\Users\\smhrd\\anaconda3\\envs\\opencv\\lib\\site-packages\\pymysql\\cursors.py\", line 153, in execute\n",
      "    result = self._query(query)\n",
      "  File \"C:\\Users\\smhrd\\anaconda3\\envs\\opencv\\lib\\site-packages\\pymysql\\cursors.py\", line 322, in _query\n",
      "    conn.query(q)\n",
      "  File \"C:\\Users\\smhrd\\anaconda3\\envs\\opencv\\lib\\site-packages\\pymysql\\connections.py\", line 563, in query\n",
      "    self._affected_rows = self._read_query_result(unbuffered=unbuffered)\n",
      "  File \"C:\\Users\\smhrd\\anaconda3\\envs\\opencv\\lib\\site-packages\\pymysql\\connections.py\", line 825, in _read_query_result\n",
      "    result.read()\n",
      "  File \"C:\\Users\\smhrd\\anaconda3\\envs\\opencv\\lib\\site-packages\\pymysql\\connections.py\", line 1199, in read\n",
      "    first_packet = self.connection._read_packet()\n",
      "  File \"C:\\Users\\smhrd\\anaconda3\\envs\\opencv\\lib\\site-packages\\pymysql\\connections.py\", line 763, in _read_packet\n",
      "    recv_data = self._read_bytes(bytes_to_read)\n",
      "  File \"C:\\Users\\smhrd\\anaconda3\\envs\\opencv\\lib\\site-packages\\pymysql\\connections.py\", line 782, in _read_bytes\n",
      "    data = self._rfile.read(num_bytes)\n",
      "AttributeError: 'NoneType' object has no attribute 'read'\n",
      "127.0.0.1 - - [14/Dec/2024 20:24:05] \"GET /boot/programs/test123/None HTTP/1.1\" 500 -\n",
      "Error on request:\n",
      "Traceback (most recent call last):\n",
      "  File \"C:\\Users\\smhrd\\anaconda3\\envs\\opencv\\lib\\site-packages\\werkzeug\\serving.py\", line 370, in run_wsgi\n",
      "    execute(self.server.app)\n",
      "  File \"C:\\Users\\smhrd\\anaconda3\\envs\\opencv\\lib\\site-packages\\werkzeug\\serving.py\", line 333, in execute\n",
      "    for data in application_iter:\n",
      "  File \"C:\\Users\\smhrd\\anaconda3\\envs\\opencv\\lib\\site-packages\\werkzeug\\wsgi.py\", line 256, in __next__\n",
      "    return self._next()\n",
      "  File \"C:\\Users\\smhrd\\anaconda3\\envs\\opencv\\lib\\site-packages\\werkzeug\\wrappers\\response.py\", line 32, in _iter_encoded\n",
      "    for item in iterable:\n",
      "  File \"C:\\Users\\smhrd\\AppData\\Local\\Temp\\ipykernel_26172\\3134559513.py\", line 124, in generate_frames\n",
      "    insert_user_data(id, flow_order_idx, activity_at, activity_score)\n",
      "  File \"C:\\Users\\smhrd\\AppData\\Local\\Temp\\ipykernel_26172\\3134559513.py\", line 179, in insert_user_data\n",
      "    cur.execute(sql, (id, flow_order_idx, activity_at, activity_score))\n",
      "  File \"C:\\Users\\smhrd\\anaconda3\\envs\\opencv\\lib\\site-packages\\pymysql\\cursors.py\", line 153, in execute\n",
      "    result = self._query(query)\n",
      "  File \"C:\\Users\\smhrd\\anaconda3\\envs\\opencv\\lib\\site-packages\\pymysql\\cursors.py\", line 322, in _query\n",
      "    conn.query(q)\n",
      "  File \"C:\\Users\\smhrd\\anaconda3\\envs\\opencv\\lib\\site-packages\\pymysql\\connections.py\", line 563, in query\n",
      "    self._affected_rows = self._read_query_result(unbuffered=unbuffered)\n",
      "  File \"C:\\Users\\smhrd\\anaconda3\\envs\\opencv\\lib\\site-packages\\pymysql\\connections.py\", line 825, in _read_query_result\n",
      "    result.read()\n",
      "  File \"C:\\Users\\smhrd\\anaconda3\\envs\\opencv\\lib\\site-packages\\pymysql\\connections.py\", line 1199, in read\n",
      "    first_packet = self.connection._read_packet()\n",
      "  File \"C:\\Users\\smhrd\\anaconda3\\envs\\opencv\\lib\\site-packages\\pymysql\\connections.py\", line 753, in _read_packet\n",
      "    raise err.OperationalError(\n",
      "pymysql.err.OperationalError: (2013, 'Lost connection to MySQL server during query')\n"
     ]
    },
    {
     "name": "stdout",
     "output_type": "stream",
     "text": [
      "flow_idx: None\n",
      "generate_frames 실행 test123 22 65\n",
      "id에 대한 최근 flow_ord가 없습니다.\n",
      "flow_ord: 1\n",
      "None\n",
      "None\n",
      "select order data\n",
      "None\n",
      "flow_order_idx: None\n",
      "insert user data\n"
     ]
    },
    {
     "name": "stderr",
     "output_type": "stream",
     "text": [
      "127.0.0.1 - - [14/Dec/2024 20:24:06] \"GET /images/yogapose/10-8.jpg HTTP/1.1\" 404 -\n",
      "127.0.0.1 - - [14/Dec/2024 20:24:06] \"GET /images/yogapose/10-4.jpg HTTP/1.1\" 404 -\n",
      "127.0.0.1 - - [14/Dec/2024 20:24:06] \"GET /images/yogapose/10-6.jpg HTTP/1.1\" 404 -\n",
      "127.0.0.1 - - [14/Dec/2024 20:24:06] \"GET /images/yogapose/10-7.jpg HTTP/1.1\" 404 -\n",
      "127.0.0.1 - - [14/Dec/2024 20:24:06] \"GET /images/yogapose/1-1-1.png HTTP/1.1\" 404 -\n",
      "127.0.0.1 - - [14/Dec/2024 20:24:06] \"GET /images/yogapose/10-2.jpg HTTP/1.1\" 404 -\n",
      "127.0.0.1 - - [14/Dec/2024 20:24:06] \"GET /images/yogapose/10-3.jpg HTTP/1.1\" 404 -\n",
      "127.0.0.1 - - [14/Dec/2024 20:24:09] \"GET /video_feed/test123/22/65 HTTP/1.1\" 200 -\n"
     ]
    },
    {
     "name": "stdout",
     "output_type": "stream",
     "text": [
      "Joint 데이터를 ./BPE/training/test123_20241214_202418.csv에 저장했습니다.\n"
     ]
    },
    {
     "name": "stderr",
     "output_type": "stream",
     "text": [
      "[2024-12-14 20:24:20,745] ERROR in app: Exception on /boot/programs/test123/7 [GET]\n",
      "Traceback (most recent call last):\n",
      "  File \"C:\\Users\\smhrd\\anaconda3\\envs\\opencv\\lib\\site-packages\\flask\\app.py\", line 1511, in wsgi_app\n",
      "    response = self.full_dispatch_request()\n",
      "  File \"C:\\Users\\smhrd\\anaconda3\\envs\\opencv\\lib\\site-packages\\flask\\app.py\", line 919, in full_dispatch_request\n",
      "    rv = self.handle_user_exception(e)\n",
      "  File \"C:\\Users\\smhrd\\anaconda3\\envs\\opencv\\lib\\site-packages\\flask\\app.py\", line 917, in full_dispatch_request\n",
      "    rv = self.dispatch_request()\n",
      "  File \"C:\\Users\\smhrd\\anaconda3\\envs\\opencv\\lib\\site-packages\\flask\\app.py\", line 902, in dispatch_request\n",
      "    return self.ensure_sync(self.view_functions[rule.endpoint])(**view_args)  # type: ignore[no-any-return]\n",
      "  File \"C:\\Users\\smhrd\\AppData\\Local\\Temp\\ipykernel_26172\\976296048.py\", line 9, in index\n",
      "    flow_ord = recent_order(id,flow_idx) # flow_idx, id로 들어온 플로우의 몇 번까지 실행했는지\n",
      "  File \"C:\\Users\\smhrd\\AppData\\Local\\Temp\\ipykernel_26172\\3134559513.py\", line 130, in recent_order\n",
      "    cur.execute(sql, (id,flow_idx))\n",
      "  File \"C:\\Users\\smhrd\\anaconda3\\envs\\opencv\\lib\\site-packages\\pymysql\\cursors.py\", line 153, in execute\n",
      "    result = self._query(query)\n",
      "  File \"C:\\Users\\smhrd\\anaconda3\\envs\\opencv\\lib\\site-packages\\pymysql\\cursors.py\", line 322, in _query\n",
      "    conn.query(q)\n",
      "  File \"C:\\Users\\smhrd\\anaconda3\\envs\\opencv\\lib\\site-packages\\pymysql\\connections.py\", line 562, in query\n",
      "    self._execute_command(COMMAND.COM_QUERY, sql)\n",
      "  File \"C:\\Users\\smhrd\\anaconda3\\envs\\opencv\\lib\\site-packages\\pymysql\\connections.py\", line 843, in _execute_command\n",
      "    raise err.InterfaceError(0, \"\")\n",
      "pymysql.err.InterfaceError: (0, '')\n",
      "127.0.0.1 - - [14/Dec/2024 20:24:20] \"GET /boot/programs/test123/7 HTTP/1.1\" 500 -\n"
     ]
    },
    {
     "name": "stdout",
     "output_type": "stream",
     "text": [
      "flow_idx: 7\n"
     ]
    },
    {
     "name": "stderr",
     "output_type": "stream",
     "text": [
      "Error on request:\n",
      "Traceback (most recent call last):\n",
      "  File \"C:\\Users\\smhrd\\anaconda3\\envs\\opencv\\lib\\site-packages\\werkzeug\\serving.py\", line 370, in run_wsgi\n",
      "    execute(self.server.app)\n",
      "  File \"C:\\Users\\smhrd\\anaconda3\\envs\\opencv\\lib\\site-packages\\werkzeug\\serving.py\", line 333, in execute\n",
      "    for data in application_iter:\n",
      "  File \"C:\\Users\\smhrd\\anaconda3\\envs\\opencv\\lib\\site-packages\\werkzeug\\wsgi.py\", line 256, in __next__\n",
      "    return self._next()\n",
      "  File \"C:\\Users\\smhrd\\anaconda3\\envs\\opencv\\lib\\site-packages\\werkzeug\\wrappers\\response.py\", line 32, in _iter_encoded\n",
      "    for item in iterable:\n",
      "  File \"C:\\Users\\smhrd\\AppData\\Local\\Temp\\ipykernel_26172\\3134559513.py\", line 124, in generate_frames\n",
      "    insert_user_data(id, flow_order_idx, activity_at, activity_score)\n",
      "  File \"C:\\Users\\smhrd\\AppData\\Local\\Temp\\ipykernel_26172\\3134559513.py\", line 179, in insert_user_data\n",
      "    cur.execute(sql, (id, flow_order_idx, activity_at, activity_score))\n",
      "  File \"C:\\Users\\smhrd\\anaconda3\\envs\\opencv\\lib\\site-packages\\pymysql\\cursors.py\", line 153, in execute\n",
      "    result = self._query(query)\n",
      "  File \"C:\\Users\\smhrd\\anaconda3\\envs\\opencv\\lib\\site-packages\\pymysql\\cursors.py\", line 322, in _query\n",
      "    conn.query(q)\n",
      "  File \"C:\\Users\\smhrd\\anaconda3\\envs\\opencv\\lib\\site-packages\\pymysql\\connections.py\", line 562, in query\n",
      "    self._execute_command(COMMAND.COM_QUERY, sql)\n",
      "  File \"C:\\Users\\smhrd\\anaconda3\\envs\\opencv\\lib\\site-packages\\pymysql\\connections.py\", line 843, in _execute_command\n",
      "    raise err.InterfaceError(0, \"\")\n",
      "pymysql.err.InterfaceError: (0, '')\n"
     ]
    },
    {
     "name": "stdout",
     "output_type": "stream",
     "text": [
      "insert user data\n"
     ]
    }
   ],
   "source": [
    "\n",
    "@app.route('/video_feed/<id>/<ps_idx>/<flow_ord_index>')\n",
    "def video_feed(id,ps_idx,flow_ord_index):\n",
    "    return Response(generate_frames(id,ps_idx,flow_ord_index), mimetype='multipart/x-mixed-replace; boundary=frame')\n",
    "\n",
    "@app.route('/boot/programs/<id>/<flow_idx>')\n",
    "def index(id, flow_idx):\n",
    "\n",
    "    print('flow_idx:',flow_idx)\n",
    "    flow_ord = recent_order(id,flow_idx) # flow_idx, id로 들어온 플로우의 몇 번까지 실행했는지\n",
    "    print('flow_ord:',flow_ord)\n",
    "    ps_idx = select_ps_data(flow_idx, flow_ord)\n",
    "    print(ps_idx)\n",
    "    flow_order_idx = select_order_data(flow_idx, flow_ord)\n",
    "    print('flow_order_idx:',flow_order_idx)\n",
    "\n",
    "    flow_info = select_flow_data(flow_idx)\n",
    "    pose_info = select_pose_data(ps_idx)\n",
    "    activity_score = select_score(flow_order_idx[0])\n",
    "\n",
    "    return render_template('programs.html', id=id, flow_idx=flow_idx, flow_title = flow_info[0][2], \n",
    "                           ps_idx = pose_info[0][0],\n",
    "                           ps_name = pose_info[0][1],  # '웃타나사나'\n",
    "                           ps_time = pose_info[0][2],  # 30\n",
    "                           ps_exp = pose_info[0][3],   # 자세 설명`\n",
    "                           ps_img = pose_info[0][4],   # '1-1.jpg'\n",
    "                           ps_cal = pose_info[0][5],   # 100\n",
    "                           ps_link = pose_info[0][6],\n",
    "                          flow_order_idx = flow_order_idx[0],\n",
    "                          activity_score = activity_score)  \n",
    "\n",
    "@app.route('/exit_program')\n",
    "def exit_program():\n",
    "    # Spring 서버의 URL로 리다이렉트\n",
    "    return redirect('http://localhost:8090/boot/programs')\n",
    "\n",
    "if __name__ == \"__main__\":\n",
    "    app.run(host='localhost', port=8097)\n"
   ]
  }
 ],
 "metadata": {
  "kernelspec": {
   "display_name": "Python 3 (ipykernel)",
   "language": "python",
   "name": "python3"
  },
  "language_info": {
   "codemirror_mode": {
    "name": "ipython",
    "version": 3
   },
   "file_extension": ".py",
   "mimetype": "text/x-python",
   "name": "python",
   "nbconvert_exporter": "python",
   "pygments_lexer": "ipython3",
   "version": "3.9.0"
  }
 },
 "nbformat": 4,
 "nbformat_minor": 5
}

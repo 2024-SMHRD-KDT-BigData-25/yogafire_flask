{
 "cells": [
  {
   "cell_type": "code",
   "execution_count": 26,
   "id": "84f64d18-342c-4651-a150-aa1068fd92bc",
   "metadata": {},
   "outputs": [
    {
     "name": "stdout",
     "output_type": "stream",
     "text": [
      "Requirement already satisfied: PyMySQL in c:\\users\\user\\anaconda3\\envs\\opencv\\lib\\site-packages (1.1.1)\n"
     ]
    }
   ],
   "source": [
    "!pip install PyMySQL"
   ]
  },
  {
   "cell_type": "code",
   "execution_count": 1,
   "id": "f8cd9605-8ffb-403e-90d8-0502f8366938",
   "metadata": {},
   "outputs": [],
   "source": [
    "from flask import Flask,render_template,request  ## flask 라이브러리에서 Flask import\n",
    "import pymysql\n",
    "import pandas as pd"
   ]
  },
  {
   "cell_type": "code",
   "execution_count": 10,
   "id": "74ae40fc-6524-4cd8-b6ec-3d4054ef1dfc",
   "metadata": {},
   "outputs": [
    {
     "name": "stdout",
     "output_type": "stream",
     "text": [
      " * Serving Flask app '__main__'\n",
      " * Debug mode: off\n"
     ]
    },
    {
     "name": "stderr",
     "output_type": "stream",
     "text": [
      "WARNING: This is a development server. Do not use it in a production deployment. Use a production WSGI server instead.\n",
      " * Running on http://localhost:8097\n",
      "Press CTRL+C to quit\n"
     ]
    }
   ],
   "source": [
    "app = Flask(__name__)\n",
    "\n",
    "con = pymysql.connect(host='project-db-campus.smhrd.com', user='sc_24K_bigdata25_p3_4', password='smhrd4',\n",
    "                      port=3312, db='sc_24K_bigdata25_p3_4', charset='utf8', # 한글처리 (charset = 'utf8')\n",
    "                      autocommit=True # 결과 DB 반영 (Insert or update)\n",
    "                     )\n",
    "cur = con.cursor()\n",
    "\n",
    "# @app.route('/boot/ex/<int:seqidx>/<user_id>')\n",
    "# def hello_world(seqidx,user_id):\n",
    "#     return render_template('eltag.html')\n",
    "\n",
    "# @app.route('/boot/ex/')\n",
    "# def hello_world(seqidx,user_id):\n",
    "#     return render_template('eltag.html')\n",
    "\n",
    "\n",
    "\n",
    "if __name__ == \"__main__\":\n",
    "    app.run(host='localhost', port=8097)"
   ]
  },
  {
   "cell_type": "code",
   "execution_count": 39,
   "id": "2c45ee5d-59f7-48ab-b95d-cdaf4009ddf7",
   "metadata": {},
   "outputs": [
    {
     "ename": "SyntaxError",
     "evalue": "invalid syntax (2409517804.py, line 1)",
     "output_type": "error",
     "traceback": [
      "\u001b[1;36m  Cell \u001b[1;32mIn[39], line 1\u001b[1;36m\u001b[0m\n\u001b[1;33m    export FLASK_APP=app.py\u001b[0m\n\u001b[1;37m           ^\u001b[0m\n\u001b[1;31mSyntaxError\u001b[0m\u001b[1;31m:\u001b[0m invalid syntax\n"
     ]
    }
   ],
   "source": []
  },
  {
   "cell_type": "code",
   "execution_count": null,
   "id": "c2c7bfe7-3860-4b8d-8a9a-feaabd42c13b",
   "metadata": {},
   "outputs": [
    {
     "name": "stdout",
     "output_type": "stream",
     "text": [
      " * Serving Flask app '__main__'\n",
      " * Debug mode: off\n"
     ]
    },
    {
     "name": "stderr",
     "output_type": "stream",
     "text": [
      "WARNING: This is a development server. Do not use it in a production deployment. Use a production WSGI server instead.\n",
      " * Running on http://localhost:8097\n",
      "Press CTRL+C to quit\n",
      "127.0.0.1 - - [08/Dec/2024 22:33:51] \"GET / HTTP/1.1\" 200 -\n",
      "127.0.0.1 - - [08/Dec/2024 22:33:51] \"GET /img/아동자세.png HTTP/1.1\" 404 -\n",
      "127.0.0.1 - - [08/Dec/2024 22:33:52] \"GET /static/css/index10.css HTTP/1.1\" 304 -\n",
      "127.0.0.1 - - [08/Dec/2024 22:33:58] \"GET /video_feed HTTP/1.1\" 200 -\n",
      "127.0.0.1 - - [08/Dec/2024 22:33:58] \"GET /favicon.ico HTTP/1.1\" 404 -\n"
     ]
    }
   ],
   "source": [
    "from flask import Flask, render_template, Response\n",
    "import cv2\n",
    "import mediapipe as mp\n",
    "import pandas as pd\n",
    "import datetime\n",
    "import time\n",
    "\n",
    "app = Flask(__name__)\n",
    "\n",
    "# MediaPipe 초기화\n",
    "mp_pose = mp.solutions.pose\n",
    "pose = mp_pose.Pose(min_detection_confidence=0.5, min_tracking_confidence=0.5)\n",
    "\n",
    "# 랜드마크 선택\n",
    "selected_landmarks = [0] + list(range(11, 17)) + list(range(23, 29))\n",
    "\n",
    "# 컬럼 이름 정의\n",
    "columns = ['frame'] + [f'landmark{idx}_{axis}' for idx in selected_landmarks for axis in ['x', 'y']] + \\\n",
    "          ['neck_x', 'neck_y', 'hip_x', 'hip_y']\n",
    "\n",
    "data = []\n",
    "\n",
    "def generate_frames():\n",
    "    cap = cv2.VideoCapture(0)  # 카메라 열기\n",
    "    frame_idx = 0\n",
    "    start_time = time.time()\n",
    "    duration = 30  # 30초 동안 실행\n",
    "\n",
    "    while cap.isOpened() and time.time() - start_time < duration:\n",
    "        ret, frame = cap.read()\n",
    "        if not ret:\n",
    "            break\n",
    "\n",
    "        frame_idx += 1\n",
    "        rgb_frame = cv2.cvtColor(frame, cv2.COLOR_BGR2RGB)\n",
    "        results = pose.process(rgb_frame)\n",
    "        frame_data = [frame_idx]\n",
    "\n",
    "        if results.pose_landmarks:\n",
    "            landmarks = results.pose_landmarks.landmark\n",
    "            for idx in selected_landmarks:\n",
    "                landmark = landmarks[idx]\n",
    "                frame_data.extend([landmark.x, landmark.y])\n",
    "\n",
    "            # 목과 엉덩이 좌표 계산\n",
    "            neck_x = (landmarks[11].x + landmarks[12].x) / 2\n",
    "            neck_y = (landmarks[11].y + landmarks[12].y) / 2\n",
    "            hip_x = (landmarks[23].x + landmarks[24].x) / 2\n",
    "            hip_y = (landmarks[23].y + landmarks[24].y) / 2\n",
    "            frame_data.extend([neck_x, neck_y, hip_x, hip_y])\n",
    "\n",
    "        else:\n",
    "            frame_data.extend([None, None] * len(selected_landmarks))\n",
    "            frame_data.extend([None, None, None, None])\n",
    "\n",
    "        data.append(frame_data)\n",
    "\n",
    "        # 시각화\n",
    "        if results.pose_landmarks:\n",
    "            for idx in selected_landmarks:\n",
    "                x, y = int(landmarks[idx].x * frame.shape[1]), int(landmarks[idx].y * frame.shape[0])\n",
    "                cv2.circle(frame, (x, y), 5, (255, 0, 0), -1)\n",
    "\n",
    "        _, buffer = cv2.imencode('.jpg', frame)\n",
    "        frame = buffer.tobytes()\n",
    "\n",
    "        yield (b'--frame\\r\\n'\n",
    "               b'Content-Type: image/jpeg\\r\\n\\r\\n' + frame + b'\\r\\n')\n",
    "\n",
    "    cap.release()\n",
    "    pose.close()\n",
    "\n",
    "    # CSV 저장\n",
    "    user_id = 'id123'\n",
    "    suffix = datetime.datetime.now().strftime('%y%m%d_%H%M%S')\n",
    "    output_csv_path = f'./BPE/training/{user_id}_{suffix}.csv'\n",
    "    df = pd.DataFrame(data, columns=columns)\n",
    "    df.to_csv(output_csv_path, index=False)\n",
    "    print(f\"Joint 데이터를 {output_csv_path}에 저장했습니다.\")\n",
    "\n",
    "\n",
    "@app.route('/video_feed')\n",
    "def video_feed():\n",
    "    return Response(generate_frames(), mimetype='multipart/x-mixed-replace; boundary=frame')\n",
    "\n",
    "@app.route('/')\n",
    "def index():\n",
    "    return render_template('ex-edit.html')\n",
    "\n",
    "if __name__ == \"__main__\":\n",
    "    app.run(host='localhost', port=8097)\n"
   ]
  }
 ],
 "metadata": {
  "kernelspec": {
   "display_name": "Python 3 (ipykernel)",
   "language": "python",
   "name": "python3"
  },
  "language_info": {
   "codemirror_mode": {
    "name": "ipython",
    "version": 3
   },
   "file_extension": ".py",
   "mimetype": "text/x-python",
   "name": "python",
   "nbconvert_exporter": "python",
   "pygments_lexer": "ipython3",
   "version": "3.9.20"
  }
 },
 "nbformat": 4,
 "nbformat_minor": 5
}

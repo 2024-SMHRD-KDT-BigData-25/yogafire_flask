{
 "cells": [
  {
   "cell_type": "code",
   "execution_count": 9,
   "id": "2c45ee5d-59f7-48ab-b95d-cdaf4009ddf7",
   "metadata": {},
   "outputs": [],
   "source": [
    "from flask import Flask, render_template, Response,redirect, url_for, render_template_string, request, jsonify, redirect\n",
    "import cv2\n",
    "import mediapipe as mp\n",
    "import numpy as np\n",
    "import pandas as pd\n",
    "import datetime\n",
    "import time\n",
    "import pymysql\n",
    "import subprocess\n",
    "import openai\n"
   ]
  },
  {
   "cell_type": "code",
   "execution_count": 10,
   "id": "910baf7d-2cef-4c98-977b-7b50e38276ec",
   "metadata": {},
   "outputs": [],
   "source": [
    "\n",
    "#점수 조정을 위한 함수 (수정가능)\n",
    "\n",
    "def sigmoid(x):\n",
    "    return 1 / (1 + np.exp(-x+1))\n"
   ]
  },
  {
   "cell_type": "code",
   "execution_count": 11,
   "id": "a7718398-015d-4691-b34f-f15fcbfc014b",
   "metadata": {},
   "outputs": [],
   "source": [
    "#서버 초기 변수들 설정 (db연결)\n",
    "app = Flask(__name__)\n",
    "\n",
    "app.secret_key = 'mypassword'  # Flask 세션을 위해 필요\n",
    "\n",
    "# 점수를 저장할 전역 변수 (선택사항)\n",
    "score_storage = {}\n",
    "\n",
    "con = pymysql.connect(host='project-db-campus.smhrd.com', user='sc_24K_bigdata25_p3_4', password='smhrd4',\n",
    "                      port=3312, db='sc_24K_bigdata25_p3_4', charset='utf8', # 한글처리 (charset = 'utf8')\n",
    "                      autocommit=True # 결과 DB 반영 (Insert or update)\n",
    "                     )\n",
    "cur = con.cursor()"
   ]
  },
  {
   "cell_type": "code",
   "execution_count": 12,
   "id": "38add759-21f5-4645-9549-8e562f7d26cd",
   "metadata": {},
   "outputs": [],
   "source": [
    "# 카메라 연결 초기값 설정\n",
    "\n",
    "# 랜드마크 선택\n",
    "selected_landmarks = [0] + list(range(11, 17)) + list(range(23, 29))\n",
    "    \n",
    "# 컬럼 이름 정의\n",
    "columns = ['frame'] + [f'landmark{idx}_{axis}' for idx in selected_landmarks for axis in ['x', 'y']] + \\\n",
    "              ['neck_x', 'neck_y', 'hip_x', 'hip_y']\n",
    "\n",
    "cap = cv2.VideoCapture(0)  # 카메라 열기"
   ]
  },
  {
   "cell_type": "code",
   "execution_count": 13,
   "id": "c2c7bfe7-3860-4b8d-8a9a-feaabd42c13b",
   "metadata": {
    "scrolled": true
   },
   "outputs": [],
   "source": [
    "#함수 정의\n",
    "\n",
    "def generate_frames(id, activity_at,ps_time_f):\n",
    "\n",
    "    mp_pose = mp.solutions.pose\n",
    "    pose = mp_pose.Pose(min_detection_confidence=0.5, min_tracking_confidence=0.5)\n",
    "\n",
    "    print('generate_frames 실행' ,id, activity_at)\n",
    "\n",
    "    output_csv_path = f'./BPE/training/{id}_{activity_at}.csv'\n",
    "    \n",
    "    user_id = id\n",
    "    data = []\n",
    "\n",
    "    if not cap.isOpened():\n",
    "        print(\"카메라를 열 수 없습니다.\")\n",
    "        return\n",
    "\n",
    "\n",
    "    frame_idx = 0\n",
    "    start_time = time.time()\n",
    "    duration = ps_time_f - 5 # 카메라 딜레이를 생각해 2초 적게 \n",
    "    \n",
    "    while cap.isOpened() and time.time() - start_time < duration:\n",
    "        ret, frame = cap.read()\n",
    "        if not ret:\n",
    "            print(\"프레임을 읽을 수 없습니다.\")\n",
    "            break\n",
    "        frame = cv2.flip(frame,1)\n",
    "    \n",
    "        frame_idx += 1\n",
    "        rgb_frame = cv2.cvtColor(frame, cv2.COLOR_BGR2RGB)\n",
    "        results = pose.process(rgb_frame)\n",
    "        frame_data = [frame_idx]\n",
    "    \n",
    "        if results.pose_landmarks:\n",
    "            landmarks = results.pose_landmarks.landmark\n",
    "            for idx in selected_landmarks:\n",
    "                landmark = landmarks[idx]\n",
    "                frame_data.extend([landmark.x, landmark.y])\n",
    "    \n",
    "            # 목과 엉덩이 좌표 계산\n",
    "            neck_x = (landmarks[11].x + landmarks[12].x) / 2\n",
    "            neck_y = (landmarks[11].y + landmarks[12].y) / 2\n",
    "            hip_x = (landmarks[23].x + landmarks[24].x) / 2\n",
    "            hip_y = (landmarks[23].y + landmarks[24].y) / 2\n",
    "            frame_data.extend([neck_x, neck_y, hip_x, hip_y])\n",
    "    \n",
    "        else:\n",
    "            frame_data.extend([None, None] * len(selected_landmarks))\n",
    "            frame_data.extend([None, None, None, None])\n",
    "            \n",
    "        data.append(frame_data)\n",
    "    \n",
    "        # 시각화\n",
    "        if results.pose_landmarks:\n",
    "            landmarks = results.pose_landmarks.landmark\n",
    "            h, w, _ = frame.shape\n",
    "    \n",
    "            # 점 그리기\n",
    "            for idx in selected_landmarks:\n",
    "                x, y = int(landmarks[idx].x * w), int(landmarks[idx].y * h)\n",
    "                cv2.circle(frame, (x, y), 5, (255, 0, 0), -1)  # 파란색 점\n",
    "    \n",
    "            # 선 그리기\n",
    "            for connection in mp_pose.POSE_CONNECTIONS:\n",
    "                start_idx, end_idx = connection\n",
    "                if start_idx in selected_landmarks and end_idx in selected_landmarks:\n",
    "                    start_x, start_y = int(landmarks[start_idx].x * w), int(landmarks[start_idx].y * h)\n",
    "                    end_x, end_y = int(landmarks[end_idx].x * w), int(landmarks[end_idx].y * h)\n",
    "                    cv2.line(frame, (start_x, start_y), (end_x, end_y), (255, 255, 255), 2)  # 하얀색 선\n",
    "    \n",
    "        _, buffer = cv2.imencode('.jpg', frame)\n",
    "        frame = buffer.tobytes()\n",
    "    \n",
    "        yield (b'--frame\\r\\n'\n",
    "                   b'Content-Type: image/jpeg\\r\\n\\r\\n' + frame + b'\\r\\n')\n",
    "\n",
    "    pose.close()  # MediaPipe 종료\n",
    "    df = pd.DataFrame(data, columns=columns)\n",
    "    df.to_csv(output_csv_path, index=False)\n",
    "    print(f\"Joint 데이터를 {output_csv_path}에 저장했습니다.\")\n",
    "\n",
    "    yield (b'--frame\\r\\n'\n",
    "            b'Content-Type: image/jpeg\\r\\n\\r\\n' + frame + b'\\r\\n')"
   ]
  },
  {
   "cell_type": "code",
   "execution_count": 14,
   "id": "1dc8180c-3572-402a-8277-fe23aa97210a",
   "metadata": {},
   "outputs": [],
   "source": [
    "#db 연결 함수 (select, insert)\n",
    "\n",
    "def recent_order(id, flow_idx) :\n",
    "    # activity_at -> datetime으로 바꿀수잇는지 물어보기\n",
    "    sql = 'select flow_ord from tmp where (id = %s) and (flow_idx = %s) limit 1'\n",
    "    cur.execute(sql, (id,flow_idx))\n",
    "    flow_ord = cur.fetchone()\n",
    "\n",
    "    if flow_ord :\n",
    "        # if flow_ord[0] == last_ord[0] :\n",
    "        #     print('시퀀스를 마지막까지 실행한 유저입니다.')\n",
    "        #     return 1\n",
    "        # else : \n",
    "        print('가장 최근의 flow_ord :', flow_ord[0])\n",
    "        return flow_ord[0] + 1\n",
    "    else :\n",
    "        print('id에 대한 최근 flow_ord가 없습니다.')\n",
    "        return 1\n",
    "\n",
    "def flow_last_order(flow_idx) :\n",
    "    sql = 'select max(flow_ord) from flow_order where flow_idx = %s group by flow_idx'\n",
    "    cur.execute(sql, (flow_idx,))\n",
    "    print(flow_idx)\n",
    "    last_ord = cur.fetchone()\n",
    "    print('해당 플로우의 마지막 순서:',last_ord)\n",
    "    return last_ord[0]\n",
    "\n",
    "def select_ps_data(flow_idx, flow_ord) :\n",
    "    # flow_ord와 flow_idx에 해당하는 ps_idx를 찾는 쿼리\n",
    "    sql = 'select ps_idx from flow_order where flow_idx = %s and flow_ord = %s'\n",
    "    cur.execute(sql, (flow_idx, flow_ord))\n",
    "    ps_idx = cur.fetchone()  # 쿼리 결과에서 첫 번째 값만 가져옵니다.  \n",
    "    print(ps_idx)\n",
    "    return ps_idx\n",
    "\n",
    "def select_order_data(flow_idx, flow_ord) :\n",
    "    print('select order data')\n",
    "    sql = 'select flow_order_idx from flow_order where flow_idx = %s and flow_ord = %s'\n",
    "    cur.execute(sql, (flow_idx, flow_ord))\n",
    "    flow_order_idx = cur.fetchone()  # 쿼리 결과에서 첫 번째 값만 가져옵니다.\n",
    "    print(flow_order_idx)\n",
    "    return flow_order_idx\n",
    "\n",
    "def select_flow_data(flow_idx) :\n",
    "    sql = 'select * from flow_info where flow_idx = %s'\n",
    "    cur.execute(sql, (flow_idx,))\n",
    "    flow_info = cur.fetchall()\n",
    "    print('select flow data 실행')\n",
    "    return flow_info\n",
    "\n",
    "def select_pose_data(ps_idx) :\n",
    "    sql = 'select* from pose_info where ps_idx = %s'\n",
    "    cur.execute(sql, (ps_idx,))\n",
    "    ps_info = cur.fetchall()\n",
    "    print('select pose data 실행')\n",
    "    return ps_info\n",
    "\n",
    "def insert_user_data(id, flow_order_idx, activity_at, activity_score) :\n",
    "    print('insert user data')\n",
    "    sql = 'insert into user_activity (id, flow_order_idx, activity_at, activity_score) values (%s, %s, %s, %s)'\n",
    "    cur.execute(sql, (id, flow_order_idx, activity_at, activity_score))\n",
    "    con.commit()"
   ]
  },
  {
   "cell_type": "code",
   "execution_count": 15,
   "id": "b9f003fe-8467-40c0-8233-35e45ff7cf1d",
   "metadata": {},
   "outputs": [],
   "source": [
    "instruction = \"\"\"\n",
    "\n",
    "SYSTEM:\n",
    "You are an factual AI assistant named '요팡이' who answers the question for a person who is curious about yoga.\n",
    "Only tasks that HELP learning, such as\n",
    "1. 요가에 대한 질문 답변 - Questions about yoga\n",
    "2. 요가 초급자는 '엉덩이를 위한 요가 시퀀스',\n",
    "'뻣뻣함을 완화하는 목 요가 시퀀스',\n",
    "'체중 감량을 위한 요가 시퀀스',\n",
    "'좌골신경통을 예방하기 위한 허리, 햄스트링, 엉덩이를 위한 요가 시퀀스',\n",
    "'차크라 요가 시퀀스'에서만 추천해줘 - \n",
    "Limit yoga beginners to recommend yoga for '엉덩이를 위한 요가 시퀀스',\n",
    "'뻣뻣함을 완화하는 목 요가 시퀀스',\n",
    "'체중 감량을 위한 요가 시퀀스',\n",
    "'좌골신경통을 예방하기 위한 허리, 햄스트링, 엉덩이를 위한 요가 시퀀스',\n",
    "'차크라 요가 시퀀스'\n",
    "3. 요가 중급자는 '엉덩이를 여는 요가 시퀀스',\n",
    "'소화를 위한 요가 시퀀스',\n",
    "'허리 통증을 위한 요가 시퀀스',\n",
    "'무릎 관절염을 위한 요가 시퀀스',\n",
    "'복근과 코어를 위한 요가 시퀀스'에서만 추천해줘 -\n",
    "Limit yoga middle class to recommend yoga for '엉덩이를 여는 요가 시퀀스',\n",
    "'소화를 위한 요가 시퀀스',\n",
    "'허리 통증을 위한 요가 시퀀스',\n",
    "'무릎 관절염을 위한 요가 시퀀스',\n",
    "'복근과 코어를 위한 요가 시퀀스'\n",
    "4. 요가 고급자는 '힙 오프너 요가 시퀀스',\n",
    "'복근과 코어를 위한 요가 시퀀스',\n",
    "'팔과 어깨를 위한 요가 시퀀스',\n",
    "'하트 오픈 및 백벤드 요가 시퀀스',\n",
    "'피크 포즈 및 분할 포즈 요가 시퀀스',\n",
    "'간단하고 짧은 스트레칭 요가',\n",
    "'간단하고 짧은 스트레칭 요가' 에서만 추천해줘 -\n",
    "Limit yoga seniors to recommend yoga for '힙 오프너 요가 시퀀스',\n",
    "'복근과 코어를 위한 요가 시퀀스',\n",
    "'팔과 어깨를 위한 요가 시퀀스',\n",
    "'하트 오픈 및 백벤드 요가 시퀀스',\n",
    "'피크 포즈 및 분할 포즈 요가 시퀀스',\n",
    "'간단하고 짧은 스트레칭 요가',\n",
    "'간단하고 짧은 스트레칭 요가'\n",
    "5. 환각 현상 금지 - No hallucinations\n",
    "6. max_tokens = 500 내에만 대답해\n",
    "요팡이 answers in KOREAN \"\"\""
   ]
  },
  {
   "cell_type": "code",
   "execution_count": null,
   "id": "50f7060a-0c88-49da-9147-20c511ff3210",
   "metadata": {},
   "outputs": [
    {
     "name": "stdout",
     "output_type": "stream",
     "text": [
      " * Serving Flask app '__main__'\n",
      " * Debug mode: off\n"
     ]
    },
    {
     "name": "stderr",
     "output_type": "stream",
     "text": [
      "WARNING: This is a development server. Do not use it in a production deployment. Use a production WSGI server instead.\n",
      " * Running on http://localhost:8097\n",
      "Press CTRL+C to quit\n",
      "127.0.0.1 - - [16/Dec/2024 12:45:13] \"GET /boot/chat HTTP/1.1\" 200 -\n",
      "127.0.0.1 - - [16/Dec/2024 12:45:27] \"POST /api/message HTTP/1.1\" 200 -\n",
      "127.0.0.1 - - [16/Dec/2024 12:45:36] \"GET /exit_program HTTP/1.1\" 302 -\n"
     ]
    },
    {
     "name": "stdout",
     "output_type": "stream",
     "text": [
      "flow_idx: 1\n",
      "1\n",
      "해당 플로우의 마지막 순서: (8,)\n",
      "id에 대한 최근 flow_ord가 없습니다.\n",
      "flow_ord: 1\n",
      "(51,)\n",
      "ps_idx: (51,)\n",
      "select order data\n"
     ]
    },
    {
     "name": "stderr",
     "output_type": "stream",
     "text": [
      "127.0.0.1 - - [16/Dec/2024 12:45:53] \"GET /boot/programs/vncj/1 HTTP/1.1\" 200 -\n",
      "127.0.0.1 - - [16/Dec/2024 12:45:53] \"GET /static/css/index10.css HTTP/1.1\" 304 -\n"
     ]
    },
    {
     "name": "stdout",
     "output_type": "stream",
     "text": [
      "(25,)\n",
      "flow_order_idx: (25,)\n",
      "select flow data 실행\n",
      "((1, '초급', '엉덩이를 위한 요가 시퀀스', '엉덩이를 위한 요가 시퀀스는 엉덩이 오프너 범주에 속하며, 학생의 연습 수준에 관계없이 모든 요가 연습의 필수적인 부분을 형성합니다. 엉덩이 오프너 요가 시퀀스는 엉덩이와 허벅지 위쪽에 연결된 근육을 열어 허리 아랫부분에 힘을 제공하기 위해 연습해야 할 기본 시퀀스와 같습니다. 엉덩이의 많은 근육은 엉덩이 관절과 대퇴골에 움직임의 자유, 힘과 안정성을 제공합니다. 따라서 엉덩이 주변 근육을 여는 작업은 대부분의 요가 포즈에 필수적입니다.', '1.png'),)\n",
      "select pose data 실행\n",
      "((51, '웃타나사나', 30, '웃타나사나 (Uttanasana)는 요가에서 매우 중요한 앞으로 구부리는 자세입니다. 한국어로는 \"서서 Forward Fold\" 또는 \"서서 고양이 자세\"라고도 불리며, \"웃타나\"는 \"강하게\" 또는 \"강렬하게\"라는 뜻을 가진 산스크리트어에서 유래한 단어로, \"사나\"는 \"자세\"를 의미합니다. 이 자세는 몸의 앞쪽을 깊게 늘려주는 효과가 있으며, 특히 하체와 척추의 유연성 향상에 매우 유익합니다.', '1-1.jpg', 100, 'https://www.youtube.com/embed/PsU5FKyGH2Y'),)\n"
     ]
    },
    {
     "name": "stderr",
     "output_type": "stream",
     "text": [
      "127.0.0.1 - - [16/Dec/2024 12:45:53] \"GET /static/css/fire.css HTTP/1.1\" 304 -\n",
      "127.0.0.1 - - [16/Dec/2024 12:45:53] \"GET /static/images/요가시퀀스20.jpg HTTP/1.1\" 304 -\n"
     ]
    },
    {
     "name": "stdout",
     "output_type": "stream",
     "text": [
      "generate_frames 실행 vncj 20241216124553\n"
     ]
    },
    {
     "name": "stderr",
     "output_type": "stream",
     "text": [
      "127.0.0.1 - - [16/Dec/2024 12:45:54] \"GET /static/js/index10.js HTTP/1.1\" 404 -\n",
      "127.0.0.1 - - [16/Dec/2024 12:45:54] \"GET /video_feed/vncj/20241216124553/30 HTTP/1.1\" 200 -\n",
      "127.0.0.1 - - [16/Dec/2024 12:45:55] \"GET /favicon.ico HTTP/1.1\" 404 -\n"
     ]
    },
    {
     "name": "stdout",
     "output_type": "stream",
     "text": [
      "flow_idx: 1\n",
      "1\n",
      "해당 플로우의 마지막 순서: (8,)\n",
      "id에 대한 최근 flow_ord가 없습니다.\n",
      "flow_ord: 1\n",
      "(51,)\n",
      "ps_idx: (51,)\n",
      "select order data\n"
     ]
    },
    {
     "name": "stderr",
     "output_type": "stream",
     "text": [
      "127.0.0.1 - - [16/Dec/2024 12:45:58] \"GET /boot/programs/vncj/1 HTTP/1.1\" 200 -\n"
     ]
    },
    {
     "name": "stdout",
     "output_type": "stream",
     "text": [
      "(25,)\n",
      "flow_order_idx: (25,)\n",
      "select flow data 실행\n",
      "((1, '초급', '엉덩이를 위한 요가 시퀀스', '엉덩이를 위한 요가 시퀀스는 엉덩이 오프너 범주에 속하며, 학생의 연습 수준에 관계없이 모든 요가 연습의 필수적인 부분을 형성합니다. 엉덩이 오프너 요가 시퀀스는 엉덩이와 허벅지 위쪽에 연결된 근육을 열어 허리 아랫부분에 힘을 제공하기 위해 연습해야 할 기본 시퀀스와 같습니다. 엉덩이의 많은 근육은 엉덩이 관절과 대퇴골에 움직임의 자유, 힘과 안정성을 제공합니다. 따라서 엉덩이 주변 근육을 여는 작업은 대부분의 요가 포즈에 필수적입니다.', '1.png'),)\n",
      "select pose data 실행\n",
      "((51, '웃타나사나', 30, '웃타나사나 (Uttanasana)는 요가에서 매우 중요한 앞으로 구부리는 자세입니다. 한국어로는 \"서서 Forward Fold\" 또는 \"서서 고양이 자세\"라고도 불리며, \"웃타나\"는 \"강하게\" 또는 \"강렬하게\"라는 뜻을 가진 산스크리트어에서 유래한 단어로, \"사나\"는 \"자세\"를 의미합니다. 이 자세는 몸의 앞쪽을 깊게 늘려주는 효과가 있으며, 특히 하체와 척추의 유연성 향상에 매우 유익합니다.', '1-1.jpg', 100, 'https://www.youtube.com/embed/PsU5FKyGH2Y'),)\n"
     ]
    },
    {
     "name": "stderr",
     "output_type": "stream",
     "text": [
      "127.0.0.1 - - [16/Dec/2024 12:45:58] \"GET /static/css/fire.css HTTP/1.1\" 304 -\n",
      "127.0.0.1 - - [16/Dec/2024 12:45:58] \"GET /static/css/index10.css HTTP/1.1\" 304 -\n",
      "127.0.0.1 - - [16/Dec/2024 12:45:58] \"GET /static/images/요가시퀀스20.jpg HTTP/1.1\" 304 -\n",
      "127.0.0.1 - - [16/Dec/2024 12:45:58] \"GET /static/js/index10.js HTTP/1.1\" 404 -\n"
     ]
    },
    {
     "name": "stdout",
     "output_type": "stream",
     "text": [
      "generate_frames 실행 vncj 20241216124558\n"
     ]
    },
    {
     "name": "stderr",
     "output_type": "stream",
     "text": [
      "127.0.0.1 - - [16/Dec/2024 12:45:58] \"GET /video_feed/vncj/20241216124558/30 HTTP/1.1\" 200 -\n",
      "127.0.0.1 - - [16/Dec/2024 12:45:59] \"GET /favicon.ico HTTP/1.1\" 404 -\n"
     ]
    },
    {
     "name": "stdout",
     "output_type": "stream",
     "text": [
      "flow_idx: 6\n",
      "6\n",
      "해당 플로우의 마지막 순서: (8,)\n",
      "가장 최근의 flow_ord : 7\n",
      "flow_ord: 8\n",
      "(45,)\n",
      "ps_idx: (45,)\n",
      "select order data\n"
     ]
    },
    {
     "name": "stderr",
     "output_type": "stream",
     "text": [
      "127.0.0.1 - - [16/Dec/2024 12:46:04] \"GET /boot/programs/vncj/6 HTTP/1.1\" 200 -\n",
      "127.0.0.1 - - [16/Dec/2024 12:46:04] \"GET /static/css/index10.css HTTP/1.1\" 304 -\n"
     ]
    },
    {
     "name": "stdout",
     "output_type": "stream",
     "text": [
      "(62,)\n",
      "flow_order_idx: (62,)\n",
      "select flow data 실행\n",
      "((6, '중급', '엉덩이를 여는 요가 시퀀스', '가장 도전적인 엉덩이 열기 요가 자세는 스탠딩 자세입니다. 이 자세는 엉덩이를 완벽하게 정렬해야 하기 때문에 도전적입니다. 엉덩이를 지탱하는 다양한 근육의 안정성과 힘을 포함합니다. 앉은 자세와 엎드린 자세에 초점을 맞춘 초보자 레벨 엉덩이 열기 요가 시퀀스를 연습 하면 학생들이 이러한 스탠딩 자세를 준비하여 더 깊은 엉덩이 열기 자세로 나아갈 수 있습니다.', '6.jpg'),)\n",
      "select pose data 실행\n",
      "((45, '아도 무카 스바나사나', 30, '\"아도 무카 스바나사나\" (Adho Mukha Svanasana)는 요가에서 매우 중요한 자세로, 한국어로는 \"하향견 자세\" 또는 \"다운독\"이라고 불립니다. 이 자세는 몸 전체를 길게 늘려주는 효과가 있고, 전신의 근육을 강화하며, 유연성 및 균형감을 증진시키는 데 도움이 됩니다. \"아도 무카\"는 \"하향\"을, \"스바나사나\"는 \"개\"를 뜻하는 산스크리트어에서 유래한 이름입니다. 따라서 이 자세는 \"하향을 향한 개 자세\"로 번역할 수 있습니다.', '3-3.jpg', 100, None),)\n",
      "generate_frames 실행 vncj 20241216124604\n"
     ]
    },
    {
     "name": "stderr",
     "output_type": "stream",
     "text": [
      "127.0.0.1 - - [16/Dec/2024 12:46:05] \"GET /static/css/fire.css HTTP/1.1\" 304 -\n",
      "127.0.0.1 - - [16/Dec/2024 12:46:05] \"GET /static/images/요가시퀀스20.jpg HTTP/1.1\" 304 -\n",
      "127.0.0.1 - - [16/Dec/2024 12:46:05] \"GET /video_feed/vncj/20241216124604/30 HTTP/1.1\" 200 -\n",
      "127.0.0.1 - - [16/Dec/2024 12:46:05] \"GET /static/js/index10.js HTTP/1.1\" 404 -\n",
      "[2024-12-16 12:46:05,557] ERROR in app: Exception on /boot/programs/vncj/None [GET]\n",
      "Traceback (most recent call last):\n",
      "  File \"C:\\Users\\smhrd\\anaconda3\\envs\\opencv\\lib\\site-packages\\flask\\app.py\", line 1511, in wsgi_app\n",
      "    response = self.full_dispatch_request()\n",
      "  File \"C:\\Users\\smhrd\\anaconda3\\envs\\opencv\\lib\\site-packages\\flask\\app.py\", line 919, in full_dispatch_request\n",
      "    rv = self.handle_user_exception(e)\n",
      "  File \"C:\\Users\\smhrd\\anaconda3\\envs\\opencv\\lib\\site-packages\\flask\\app.py\", line 917, in full_dispatch_request\n",
      "    rv = self.dispatch_request()\n",
      "  File \"C:\\Users\\smhrd\\anaconda3\\envs\\opencv\\lib\\site-packages\\flask\\app.py\", line 902, in dispatch_request\n",
      "    return self.ensure_sync(self.view_functions[rule.endpoint])(**view_args)  # type: ignore[no-any-return]\n",
      "  File \"C:\\Users\\smhrd\\AppData\\Local\\Temp\\ipykernel_17792\\1862531779.py\", line 10, in index\n",
      "    last_order = flow_last_order(flow_idx)\n",
      "  File \"C:\\Users\\smhrd\\AppData\\Local\\Temp\\ipykernel_17792\\4285693593.py\", line 26, in flow_last_order\n",
      "    return last_ord[0]\n",
      "TypeError: 'NoneType' object is not subscriptable\n",
      "127.0.0.1 - - [16/Dec/2024 12:46:05] \"GET /boot/programs/vncj/None?autoplay=1 HTTP/1.1\" 500 -\n"
     ]
    },
    {
     "name": "stdout",
     "output_type": "stream",
     "text": [
      "flow_idx: None\n",
      "None\n",
      "해당 플로우의 마지막 순서: None\n",
      "Joint 데이터를 ./BPE/training/vncj_20241216124604.csv에 저장했습니다.\n"
     ]
    },
    {
     "name": "stderr",
     "output_type": "stream",
     "text": [
      "127.0.0.1 - - [16/Dec/2024 12:46:37] \"GET /model_run/vncj/62/20241216124604/6/45 HTTP/1.1\" 200 -\n"
     ]
    },
    {
     "name": "stdout",
     "output_type": "stream",
     "text": [
      "insert user data\n",
      "flow_idx: 6\n",
      "6\n",
      "해당 플로우의 마지막 순서: (8,)\n",
      "가장 최근의 flow_ord : 8\n",
      "flow_ord: 9\n",
      "(68,)\n",
      "ps_idx: (68,)\n",
      "select order data\n",
      "(55,)\n",
      "flow_order_idx: (55,)\n",
      "select flow data 실행\n",
      "((6, '중급', '엉덩이를 여는 요가 시퀀스', '가장 도전적인 엉덩이 열기 요가 자세는 스탠딩 자세입니다. 이 자세는 엉덩이를 완벽하게 정렬해야 하기 때문에 도전적입니다. 엉덩이를 지탱하는 다양한 근육의 안정성과 힘을 포함합니다. 앉은 자세와 엎드린 자세에 초점을 맞춘 초보자 레벨 엉덩이 열기 요가 시퀀스를 연습 하면 학생들이 이러한 스탠딩 자세를 준비하여 더 깊은 엉덩이 열기 자세로 나아갈 수 있습니다.', '6.jpg'),)\n"
     ]
    },
    {
     "name": "stderr",
     "output_type": "stream",
     "text": [
      "127.0.0.1 - - [16/Dec/2024 12:46:41] \"GET /boot/programs/vncj/6 HTTP/1.1\" 200 -\n",
      "127.0.0.1 - - [16/Dec/2024 12:46:41] \"GET /static/css/index10.css HTTP/1.1\" 304 -\n"
     ]
    },
    {
     "name": "stdout",
     "output_type": "stream",
     "text": [
      "select pose data 실행\n",
      "((68, '프라사리타 파돗타나사나', 30, '프라사리타 파돗타나사나(Prasarita Padottanasana)는 요가에서 다리와 척추를 스트레칭하고, 몸의 균형을 향상시키는 자세입니다. \"프라사리타(Prasarita)\"는 \"넓은\" 또는 \"퍼진\"을 의미하고, \"파돗타나(Padottanasana)\"는 \"다리 앞으로의 스트레칭\"을 의미합니다. 이 자세는 다리를 넓게 벌린 상태에서 상체를 앞으로 숙여서 수행하는 자세로, 하체와 척추의 유연성을 증가시키는 데 효과적입니다.', '3-7.jpg', 100, None),)\n"
     ]
    },
    {
     "name": "stderr",
     "output_type": "stream",
     "text": [
      "127.0.0.1 - - [16/Dec/2024 12:46:41] \"GET /static/css/fire.css HTTP/1.1\" 304 -\n",
      "127.0.0.1 - - [16/Dec/2024 12:46:41] \"GET /static/images/요가시퀀스20.jpg HTTP/1.1\" 304 -\n"
     ]
    },
    {
     "name": "stdout",
     "output_type": "stream",
     "text": [
      "generate_frames 실행 vncj 20241216124641\n"
     ]
    },
    {
     "name": "stderr",
     "output_type": "stream",
     "text": [
      "127.0.0.1 - - [16/Dec/2024 12:46:41] \"GET /static/js/index10.js HTTP/1.1\" 404 -\n",
      "127.0.0.1 - - [16/Dec/2024 12:46:41] \"GET /video_feed/vncj/20241216124641/30 HTTP/1.1\" 200 -\n",
      "[2024-12-16 12:46:42,029] ERROR in app: Exception on /boot/programs/vncj/None [GET]\n",
      "Traceback (most recent call last):\n",
      "  File \"C:\\Users\\smhrd\\anaconda3\\envs\\opencv\\lib\\site-packages\\flask\\app.py\", line 1511, in wsgi_app\n",
      "    response = self.full_dispatch_request()\n",
      "  File \"C:\\Users\\smhrd\\anaconda3\\envs\\opencv\\lib\\site-packages\\flask\\app.py\", line 919, in full_dispatch_request\n",
      "    rv = self.handle_user_exception(e)\n",
      "  File \"C:\\Users\\smhrd\\anaconda3\\envs\\opencv\\lib\\site-packages\\flask\\app.py\", line 917, in full_dispatch_request\n",
      "    rv = self.dispatch_request()\n",
      "  File \"C:\\Users\\smhrd\\anaconda3\\envs\\opencv\\lib\\site-packages\\flask\\app.py\", line 902, in dispatch_request\n",
      "    return self.ensure_sync(self.view_functions[rule.endpoint])(**view_args)  # type: ignore[no-any-return]\n",
      "  File \"C:\\Users\\smhrd\\AppData\\Local\\Temp\\ipykernel_17792\\1862531779.py\", line 10, in index\n",
      "    last_order = flow_last_order(flow_idx)\n",
      "  File \"C:\\Users\\smhrd\\AppData\\Local\\Temp\\ipykernel_17792\\4285693593.py\", line 26, in flow_last_order\n",
      "    return last_ord[0]\n",
      "TypeError: 'NoneType' object is not subscriptable\n",
      "127.0.0.1 - - [16/Dec/2024 12:46:42] \"GET /boot/programs/vncj/None?autoplay=1 HTTP/1.1\" 500 -\n"
     ]
    },
    {
     "name": "stdout",
     "output_type": "stream",
     "text": [
      "flow_idx: None\n",
      "None\n",
      "해당 플로우의 마지막 순서: None\n"
     ]
    },
    {
     "name": "stderr",
     "output_type": "stream",
     "text": [
      "127.0.0.1 - - [16/Dec/2024 12:46:49] \"GET /exit_program HTTP/1.1\" 302 -\n",
      "127.0.0.1 - - [16/Dec/2024 13:23:16] \"GET /boot/chat HTTP/1.1\" 200 -\n",
      "127.0.0.1 - - [16/Dec/2024 13:23:32] \"POST /api/message HTTP/1.1\" 200 -\n",
      "127.0.0.1 - - [16/Dec/2024 13:23:37] \"GET /exit_program HTTP/1.1\" 302 -\n"
     ]
    },
    {
     "name": "stdout",
     "output_type": "stream",
     "text": [
      "flow_idx: 1\n",
      "1\n",
      "해당 플로우의 마지막 순서: (8,)\n",
      "id에 대한 최근 flow_ord가 없습니다.\n",
      "flow_ord: 1\n",
      "(51,)\n",
      "ps_idx: (51,)\n",
      "select order data\n"
     ]
    },
    {
     "name": "stderr",
     "output_type": "stream",
     "text": [
      "127.0.0.1 - - [16/Dec/2024 13:23:47] \"GET /boot/programs/vncj/1 HTTP/1.1\" 200 -\n",
      "127.0.0.1 - - [16/Dec/2024 13:23:47] \"GET /static/css/index10.css HTTP/1.1\" 304 -\n"
     ]
    },
    {
     "name": "stdout",
     "output_type": "stream",
     "text": [
      "(25,)\n",
      "flow_order_idx: (25,)\n",
      "select flow data 실행\n",
      "((1, '초급', '엉덩이를 위한 요가 시퀀스', '엉덩이를 위한 요가 시퀀스는 엉덩이 오프너 범주에 속하며, 학생의 연습 수준에 관계없이 모든 요가 연습의 필수적인 부분을 형성합니다. 엉덩이 오프너 요가 시퀀스는 엉덩이와 허벅지 위쪽에 연결된 근육을 열어 허리 아랫부분에 힘을 제공하기 위해 연습해야 할 기본 시퀀스와 같습니다. 엉덩이의 많은 근육은 엉덩이 관절과 대퇴골에 움직임의 자유, 힘과 안정성을 제공합니다. 따라서 엉덩이 주변 근육을 여는 작업은 대부분의 요가 포즈에 필수적입니다.', '1.png'),)\n",
      "select pose data 실행\n",
      "((51, '웃타나사나', 30, '웃타나사나 (Uttanasana)는 요가에서 매우 중요한 앞으로 구부리는 자세입니다. 한국어로는 \"서서 Forward Fold\" 또는 \"서서 고양이 자세\"라고도 불리며, \"웃타나\"는 \"강하게\" 또는 \"강렬하게\"라는 뜻을 가진 산스크리트어에서 유래한 단어로, \"사나\"는 \"자세\"를 의미합니다. 이 자세는 몸의 앞쪽을 깊게 늘려주는 효과가 있으며, 특히 하체와 척추의 유연성 향상에 매우 유익합니다.', '1-1.jpg', 100, 'https://www.youtube.com/embed/PsU5FKyGH2Y'),)\n"
     ]
    },
    {
     "name": "stderr",
     "output_type": "stream",
     "text": [
      "127.0.0.1 - - [16/Dec/2024 13:23:47] \"GET /static/css/fire.css HTTP/1.1\" 304 -\n",
      "127.0.0.1 - - [16/Dec/2024 13:23:47] \"GET /static/images/요가시퀀스20.jpg HTTP/1.1\" 304 -\n"
     ]
    },
    {
     "name": "stdout",
     "output_type": "stream",
     "text": [
      "generate_frames 실행 vncj 20241216132347\n"
     ]
    },
    {
     "name": "stderr",
     "output_type": "stream",
     "text": [
      "127.0.0.1 - - [16/Dec/2024 13:23:48] \"GET /video_feed/vncj/20241216132347/30 HTTP/1.1\" 200 -\n",
      "127.0.0.1 - - [16/Dec/2024 13:23:48] \"GET /static/js/index10.js HTTP/1.1\" 404 -\n",
      "127.0.0.1 - - [16/Dec/2024 13:23:49] \"GET /favicon.ico HTTP/1.1\" 404 -\n"
     ]
    },
    {
     "name": "stdout",
     "output_type": "stream",
     "text": [
      "Joint 데이터를 ./BPE/training/vncj_20241216132347.csv에 저장했습니다.\n"
     ]
    },
    {
     "name": "stderr",
     "output_type": "stream",
     "text": [
      "127.0.0.1 - - [16/Dec/2024 13:24:20] \"GET /model_run/vncj/25/20241216132347/1/51 HTTP/1.1\" 200 -\n"
     ]
    },
    {
     "name": "stdout",
     "output_type": "stream",
     "text": [
      "insert user data\n",
      "flow_idx: 1\n",
      "1\n",
      "해당 플로우의 마지막 순서: (8,)\n",
      "가장 최근의 flow_ord : 1\n",
      "flow_ord: 2\n",
      "(50,)\n",
      "ps_idx: (50,)\n",
      "select order data\n"
     ]
    },
    {
     "name": "stderr",
     "output_type": "stream",
     "text": [
      "127.0.0.1 - - [16/Dec/2024 13:24:23] \"GET /boot/programs/vncj/1 HTTP/1.1\" 200 -\n",
      "127.0.0.1 - - [16/Dec/2024 13:24:23] \"GET /static/css/index10.css HTTP/1.1\" 304 -\n"
     ]
    },
    {
     "name": "stdout",
     "output_type": "stream",
     "text": [
      "(26,)\n",
      "flow_order_idx: (26,)\n",
      "select flow data 실행\n",
      "((1, '초급', '엉덩이를 위한 요가 시퀀스', '엉덩이를 위한 요가 시퀀스는 엉덩이 오프너 범주에 속하며, 학생의 연습 수준에 관계없이 모든 요가 연습의 필수적인 부분을 형성합니다. 엉덩이 오프너 요가 시퀀스는 엉덩이와 허벅지 위쪽에 연결된 근육을 열어 허리 아랫부분에 힘을 제공하기 위해 연습해야 할 기본 시퀀스와 같습니다. 엉덩이의 많은 근육은 엉덩이 관절과 대퇴골에 움직임의 자유, 힘과 안정성을 제공합니다. 따라서 엉덩이 주변 근육을 여는 작업은 대부분의 요가 포즈에 필수적입니다.', '1.png'),)\n",
      "select pose data 실행\n",
      "((50, '웃카타사나', 30, '웃카타사나(Utkatasana)는 \"의자 자세\" 또는 \"강력한 자세\"로 불리는 요가 자세로, 하체 강화와 균형 감각 향상에 매우 유익한 자세입니다. 이 자세는 다리, 엉덩이, 코어를 강화하는 동시에, 상체의 유연성과 정신 집중을 높이는 데 도움을 줍니다. 웃카타사나는 특히 하체의 근육을 자극하여 다리와 엉덩이의 힘을 길러주고, 심신을 단련하는 데 유용한 자세입니다.', '1-2.jpg', 100, 'https://www.youtube.com/embed/4eWcdcXU3hY'),)\n"
     ]
    },
    {
     "name": "stderr",
     "output_type": "stream",
     "text": [
      "127.0.0.1 - - [16/Dec/2024 13:24:24] \"GET /static/images/요가시퀀스20.jpg HTTP/1.1\" 304 -\n",
      "127.0.0.1 - - [16/Dec/2024 13:24:24] \"GET /static/css/fire.css HTTP/1.1\" 304 -\n"
     ]
    },
    {
     "name": "stdout",
     "output_type": "stream",
     "text": [
      "generate_frames 실행 vncj 20241216132423\n"
     ]
    },
    {
     "name": "stderr",
     "output_type": "stream",
     "text": [
      "127.0.0.1 - - [16/Dec/2024 13:24:24] \"GET /static/js/index10.js HTTP/1.1\" 404 -\n",
      "127.0.0.1 - - [16/Dec/2024 13:24:24] \"GET /video_feed/vncj/20241216132423/30 HTTP/1.1\" 200 -\n",
      "127.0.0.1 - - [16/Dec/2024 13:24:25] \"GET /favicon.ico HTTP/1.1\" 404 -\n",
      "127.0.0.1 - - [16/Dec/2024 13:24:31] \"GET /exit_program HTTP/1.1\" 302 -\n"
     ]
    },
    {
     "name": "stdout",
     "output_type": "stream",
     "text": [
      "flow_idx: 1\n",
      "1\n",
      "해당 플로우의 마지막 순서: (8,)\n",
      "가장 최근의 flow_ord : 1\n",
      "flow_ord: 2\n",
      "(50,)\n",
      "ps_idx: (50,)\n",
      "select order data\n"
     ]
    },
    {
     "name": "stderr",
     "output_type": "stream",
     "text": [
      "127.0.0.1 - - [16/Dec/2024 13:24:37] \"GET /boot/programs/vncj/1 HTTP/1.1\" 200 -\n",
      "127.0.0.1 - - [16/Dec/2024 13:24:37] \"GET /static/css/index10.css HTTP/1.1"
     ]
    },
    {
     "name": "stdout",
     "output_type": "stream",
     "text": [
      "(26,)\n",
      "flow_order_idx: (26,)\n",
      "select flow data 실행\n",
      "((1, '초급', '엉덩이를 위한 요가 시퀀스', '엉덩이를 위한 요가 시퀀스는 엉덩이 오프너 범주에 속하며, 학생의 연습 수준에 관계없이 모든 요가 연습의 필수적인 부분을 형성합니다. 엉덩이 오프너 요가 시퀀스는 엉덩이와 허벅지 위쪽에 연결된 근육을 열어 허리 아랫부분에 힘을 제공하기 위해 연습해야 할 기본 시퀀스와 같습니다. 엉덩이의 많은 근육은 엉덩이 관절과 대퇴골에 움직임의 자유, 힘과 안정성을 제공합니다. 따라서 엉덩이 주변 근육을 여는 작업은 대부분의 요가 포즈에 필수적입니다.', '1.png'),)\n",
      "select pose data 실행\n",
      "((50, '웃카타사나', 30, '웃카타사나(Utkatasana)는 \"의자 자세\" 또는 \"강력한 자세\"로 불리는 요가 자세로, 하체 강화와 균형 감각 향상에 매우 유익한 자세입니다. 이 자세는 다리, 엉덩이, 코어를 강화하는 동시에, 상체의 유연성과 정신 집중을 높이는 데 도움을 줍니다. 웃카타사나는 특히 하체의 근육을 자극하여 다리와 엉덩이의 힘을 길러주고, 심신을 단련하는 데 유용한 자세입니다.', '1-2.jpg', 100, 'https://www.youtube.com/embed/4eWcdcXU3hY'),)\n",
      "generate_frames 실행 vncj 20241216132437\n"
     ]
    },
    {
     "name": "stderr",
     "output_type": "stream",
     "text": [
      "\" 304 -\n",
      "127.0.0.1 - - [16/Dec/2024 13:24:37] \"GET /static/css/fire.css HTTP/1.1\" 304 -\n",
      "127.0.0.1 - - [16/Dec/2024 13:24:37] \"GET /static/images/요가시퀀스20.jpg HTTP/1.1\" 304 -\n",
      "127.0.0.1 - - [16/Dec/2024 13:24:37] \"GET /video_feed/vncj/20241216132437/30 HTTP/1.1\" 200 -\n",
      "127.0.0.1 - - [16/Dec/2024 13:24:37] \"GET /static/js/index10.js HTTP/1.1\" 404 -\n",
      "127.0.0.1 - - [16/Dec/2024 13:24:38] \"GET /favicon.ico HTTP/1.1\" 404 -\n",
      "127.0.0.1 - - [16/Dec/2024 13:24:44] \"GET /exit_program HTTP/1.1\" 302 -\n"
     ]
    }
   ],
   "source": [
    "\n",
    "\n",
    "\n",
    "@app.route('/video_feed/<id>/<activity_at>/<ps_time>')\n",
    "def video_feed(id, activity_at, ps_time):\n",
    "    ps_time_f = float(ps_time)\n",
    "    return Response(generate_frames(id, activity_at,ps_time_f), mimetype='multipart/x-mixed-replace; boundary=frame')\n",
    "\n",
    "@app.route('/boot/programs/<id>/<flow_idx>')\n",
    "def index(id, flow_idx):\n",
    "    \n",
    "    print('flow_idx:',flow_idx)\n",
    "    last_order = flow_last_order(flow_idx)\n",
    "    \n",
    "    flow_ord = recent_order(id,flow_idx) # flow_idx, id로 들어온 플로우의 몇 번까지 실행했는지\n",
    "    print('flow_ord:',flow_ord)\n",
    "\n",
    "    if flow_ord > last_order : #그 플로우의 마지막 플로우 순서 번호보다 크다면 1로 수정\n",
    "        flow_ord = 1\n",
    "    \n",
    "    ps_idx = select_ps_data(flow_idx, flow_ord)\n",
    "    print('ps_idx:',ps_idx)\n",
    "    flow_order_idx = select_order_data(flow_idx, flow_ord)\n",
    "    print('flow_order_idx:',flow_order_idx)\n",
    "\n",
    "\n",
    "    if flow_ord > last_order :\n",
    "        flow_ord = 1\n",
    "\n",
    "    flow_info = select_flow_data(flow_idx[0])\n",
    "    print(flow_info)\n",
    "    pose_info = select_pose_data(ps_idx[0])\n",
    "    print(pose_info)\n",
    "    \n",
    "    ps_link = f'{pose_info[0][6]}?autoplay=1'\n",
    "\n",
    "    activity_at = datetime.datetime.now().strftime('%Y%m%d%H%M%S')\n",
    "\n",
    "    \n",
    "    return render_template('programs3.html', id=id,\n",
    "                           flow_idx=flow_idx,\n",
    "                           flow_title = flow_info[0][2], \n",
    "                           ps_idx = pose_info[0][0],\n",
    "                           ps_name = pose_info[0][1],  # '웃타나사나'\n",
    "                           ps_time = pose_info[0][2],  # 30\n",
    "                           ps_link = ps_link,\n",
    "                           flow_order_idx = flow_order_idx[0],\n",
    "                           activity_at = activity_at\n",
    "                            )\n",
    "    \n",
    "    \n",
    "@app.route('/exit_program')\n",
    "def exit_program():\n",
    "    # Spring 서버의 URL로 리다이렉트\n",
    "    return redirect('http://localhost:8090/boot/programs')\n",
    "\n",
    "@app.route('/model_run/<id>/<flow_order_idx>/<activity_at>/<flow_idx>/<ps_idx>')\n",
    "def model_run(id,flow_order_idx, activity_at, flow_idx,ps_idx):\n",
    "    select_yoga = ps_idx\n",
    "    # subprocess.run으로 인수 전달\n",
    "    # result = subprocess.run([\"python\", \"BPE/inference_pair.py\", \"-v1\", f\"BPE/training/{id}_{activity_at}.csv\", \"-v2\", f\"BPE/rightyogajoint/{select_yoga}.csv\"],  # 실행할 명령어\n",
    "    #result = subprocess.run([\"python\", \"BPE/inference_pair.py\", \"-v1\", \"BPE/training/123456_2024-12-11_172246.csv\", \"-v2\", f\"BPE/rightyogajoint/{select_yoga}.csv\"],  # 실행할 명령어\n",
    "    #capture_output=True,      # 출력을 캡처\n",
    "    #text=True                 # 바이트가 아닌 문자열로 출력 받음\n",
    "    #)\n",
    "    #BPE 안의 모델 파일 실행 / training 안에 방금 저장된 유저의 파일과 , rightyogajoint에 미리 저장해둔 요가 자세의 올바른 자세 joint 값과 비교 \n",
    "\n",
    "    #output = result.stdout    \n",
    "    #실행된 결과에서 score만 가져오기\n",
    "    #list1 = output.split('\\n')\n",
    "    #score_str = list1[-2]\n",
    "    # score 점수 조정\n",
    "    #model_score = ((round(sigmoid((float(score_str.split(' ')[-1])))*10)*10))\n",
    "    model_score = 40\n",
    "    activity_at = datetime.datetime.now().strftime('%Y-%m-%d')  # 활동 시간\n",
    "    activity_score = model_score\n",
    "    insert_user_data(id, flow_order_idx, activity_at, activity_score)\n",
    "    \n",
    "    return render_template('score.html', score=model_score, id=id, flow_idx=flow_idx)\n",
    "\n",
    "@app.route('/api/message', methods=['POST']) \n",
    "def message(): \n",
    "    # json 데이터 가져오기\n",
    "    data = request.get_json() \n",
    "    prompt = data.get('message','')\n",
    "\n",
    "    # openAI ALI로부터 응답 방기\n",
    "    response = openai.chat.completions.create(\n",
    "        model=\"gpt-3.5-turbo\",\n",
    "        max_tokens = 500,\n",
    "        messages=[ \n",
    "            {\"role\": \"system\", \"content\": instruction}, \n",
    "            {\"role\": \"user\", \"content\": prompt}\n",
    "        ]\n",
    "    )\n",
    "    \n",
    "    # 응답에서 'choices' 속성으로 데이터 접근\n",
    "    message_content = response.choices[0].message.content\n",
    "    # json 형태로 응답 보내기\n",
    "    return jsonify({'message': message_content})\n",
    "\n",
    "\n",
    "# 홈 페이지 렌더링\n",
    "@app.route('/boot/chat')\n",
    "def home(): \n",
    "    return render_template('chat.html')\n",
    "\n",
    "@app.route('/exit_chat')\n",
    "def exit_chat():\n",
    "    # Spring 서버의 URL로 리다이렉트\n",
    "    return redirect('http://localhost:8090/boot/mypage')\n",
    "\n",
    "\n",
    "\n",
    "\n",
    "if __name__ == \"__main__\":\n",
    "    app.run(host='localhost', port=8097)\n"
   ]
  },
  {
   "cell_type": "code",
   "execution_count": null,
   "id": "c7318a74-9167-4a36-ac21-2c71de4f0fe7",
   "metadata": {},
   "outputs": [],
   "source": []
  },
  {
   "cell_type": "code",
   "execution_count": null,
   "id": "200dc8f9-1d70-4a43-9c95-ceb6e49f3e9d",
   "metadata": {},
   "outputs": [],
   "source": []
  },
  {
   "cell_type": "code",
   "execution_count": null,
   "id": "6bed1ad1-9f84-4867-ae3d-603ecac2a958",
   "metadata": {},
   "outputs": [],
   "source": []
  },
  {
   "cell_type": "code",
   "execution_count": null,
   "id": "50aa35b1-562f-4296-b7f4-7fc0344335a0",
   "metadata": {},
   "outputs": [],
   "source": []
  },
  {
   "cell_type": "code",
   "execution_count": null,
   "id": "d5586947-6399-465a-9513-5b1c35d7df33",
   "metadata": {},
   "outputs": [],
   "source": []
  }
 ],
 "metadata": {
  "kernelspec": {
   "display_name": "Python 3 (ipykernel)",
   "language": "python",
   "name": "python3"
  },
  "language_info": {
   "codemirror_mode": {
    "name": "ipython",
    "version": 3
   },
   "file_extension": ".py",
   "mimetype": "text/x-python",
   "name": "python",
   "nbconvert_exporter": "python",
   "pygments_lexer": "ipython3",
   "version": "3.12.4"
  }
 },
 "nbformat": 4,
 "nbformat_minor": 5
}

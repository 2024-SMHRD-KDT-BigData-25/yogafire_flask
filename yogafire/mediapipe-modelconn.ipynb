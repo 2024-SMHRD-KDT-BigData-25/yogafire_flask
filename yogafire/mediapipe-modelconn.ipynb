{
 "cells": [
  {
   "cell_type": "markdown",
   "id": "ded85210-ee59-425e-9d5f-c4ee653d4783",
   "metadata": {},
   "source": [
    "## 과업\n",
    "### 1. mediapipe csv 추출\n",
    "* n초 동안 움직임을 시작지점 - 끝나는 지점 추출해서 그 동안만 csv로 생성하기\n",
    "### 2. 추출한 csv 모델 비교 후 결과값 받기"
   ]
  },
  {
   "cell_type": "markdown",
   "id": "3e2bef09-1486-4bc3-9c5b-f13917179e50",
   "metadata": {},
   "source": [
    "#### 영상을 넣어서 그 영상의 joint값 추출하기 "
   ]
  },
  {
   "cell_type": "code",
   "execution_count": 1,
   "id": "58cfa1d9-c55f-4e9e-854c-767498d41571",
   "metadata": {},
   "outputs": [],
   "source": [
    "import cv2\n",
    "import mediapipe as mp\n",
    "import pandas as pd\n",
    "import time\n",
    "import datetime\n",
    "import numpy as np\n",
    "import warnings\n",
    "warnings.filterwarnings('ignore')"
   ]
  },
  {
   "cell_type": "code",
   "execution_count": null,
   "id": "22379954-14fe-47a3-9599-bc0846e197b1",
   "metadata": {},
   "outputs": [],
   "source": [
    "select_yoga"
   ]
  },
  {
   "cell_type": "code",
   "execution_count": 8,
   "id": "7ce471bf-f16f-4fe3-885e-e2f6db0b9925",
   "metadata": {},
   "outputs": [
    {
     "name": "stdout",
     "output_type": "stream",
     "text": [
      "Joint 데이터를 ./BPE/training/id123_241206_165306.csv에 저장했습니다.\n"
     ]
    }
   ],
   "source": [
    "# 점과 선의 스타일 정의\n",
    "dot_color = (255, 0, 0)  # 파란색 점\n",
    "dot_radius = 10  # 점 크기\n",
    "line_color = (255, 255, 255)  # 흰색 선\n",
    "line_thickness = 2  # 선 두께\n",
    "\n",
    "# MediaPipe 초기화\n",
    "mp_pose = mp.solutions.pose\n",
    "pose = mp_pose.Pose(min_detection_confidence=0.5, min_tracking_confidence=0.5)\n",
    "mp_drawing = mp.solutions.drawing_utils\n",
    "\n",
    "#현시간 문자열로\n",
    "suffix = datetime.datetime.now().strftime('%y%m%d_%H%M%S')\n",
    "\n",
    "# 랜드마크 선택: [0, 11~16, 23~28]\n",
    "selected_landmarks = [0] + list(range(11, 17)) + list(range(23, 29))\n",
    "\n",
    "# 저장 파일명\n",
    "user_id = 'id123'\n",
    "filepath = f'{user_id}_{suffix}' #id + 현시각\n",
    "output_csv_path = f'./BPE/training/{filepath}.csv' # 최종파일이름\n",
    "\n",
    "# 관절 ID별 컬럼 이름 생성 (x, y만 포함)\n",
    "columns = ['frame'] + [f'landmark{idx}_{axis}' for idx in selected_landmarks for axis in ['x', 'y']] + \\\n",
    "          ['neck_x', 'neck_y', 'hip_x', 'hip_y']\n",
    "\n",
    "# 데이터 저장용 리스트\n",
    "data = []\n",
    "\n",
    "# 카메라 열기\n",
    "cap = cv2.VideoCapture(0)  # 0번 카메라\n",
    "frame_idx = 0\n",
    "start_time = time.time()\n",
    "duration = 30  # 30초 동안 실행\n",
    "\n",
    "while cap.isOpened() and time.time() - start_time < duration:\n",
    "    ret, frame = cap.read()\n",
    "    if not ret:\n",
    "        break\n",
    "\n",
    "    frame_idx += 1\n",
    "\n",
    "    # BGR 이미지를 RGB로 변환\n",
    "    rgb_frame = cv2.cvtColor(frame, cv2.COLOR_BGR2RGB)\n",
    "\n",
    "    # MediaPipe로 자세 인식 수행\n",
    "    results = pose.process(rgb_frame)\n",
    "\n",
    "    # 프레임 데이터 초기화\n",
    "    frame_data = [frame_idx]  # 현재 프레임 번호 추가\n",
    "\n",
    "    # 선택된 랜드마크 정보 추가\n",
    "    if results.pose_landmarks:\n",
    "        landmarks = results.pose_landmarks.landmark\n",
    "        for idx in selected_landmarks:\n",
    "            landmark = landmarks[idx]\n",
    "            frame_data.extend([landmark.x, landmark.y])\n",
    "\n",
    "        # 목 좌표 계산 (11번과 12번의 중간값)\n",
    "        left_shoulder = landmarks[11]\n",
    "        right_shoulder = landmarks[12]\n",
    "        neck_x = (left_shoulder.x + right_shoulder.x) / 2\n",
    "        neck_y = (left_shoulder.y + right_shoulder.y) / 2\n",
    "        frame_data.extend([neck_x, neck_y])\n",
    "\n",
    "        # 엉덩이 좌표 계산 (23번과 24번의 중간값)\n",
    "        left_hip = landmarks[23]\n",
    "        right_hip = landmarks[24]\n",
    "        hip_x = (left_hip.x + right_hip.x) / 2\n",
    "        hip_y = (left_hip.y + right_hip.y) / 2\n",
    "        frame_data.extend([hip_x, hip_y])\n",
    "\n",
    "        # 시각화: 특정 랜드마크만 표시\n",
    "        for idx in selected_landmarks:\n",
    "            landmark = landmarks[idx]\n",
    "            x, y = int(landmark.x * frame.shape[1]), int(landmark.y * frame.shape[0])\n",
    "            cv2.circle(frame, (x, y), dot_radius, dot_color, -1)  # 파란 점\n",
    "\n",
    "        # 목과 엉덩이 시각화\n",
    "        neck_pos = (int(neck_x * frame.shape[1]), int(neck_y * frame.shape[0]))\n",
    "        hip_pos = (int(hip_x * frame.shape[1]), int(hip_y * frame.shape[0]))\n",
    "        cv2.circle(frame, neck_pos, dot_radius, dot_color, -1)  # 목 (파란 점)\n",
    "        cv2.circle(frame, hip_pos, dot_radius, dot_color, -1)  # 엉덩이 (파란 점)\n",
    "\n",
    "        # 목과 어깨를 잇는 선\n",
    "        cv2.line(frame, neck_pos, \n",
    "                 (int(left_shoulder.x * frame.shape[1]), int(left_shoulder.y * frame.shape[0])), \n",
    "                 line_color, line_thickness)  # 흰 선\n",
    "        cv2.line(frame, neck_pos, \n",
    "                 (int(right_shoulder.x * frame.shape[1]), int(right_shoulder.y * frame.shape[0])), \n",
    "                 line_color, line_thickness)  # 흰 선\n",
    "\n",
    "        # 엉덩이와 다리를 잇는 선\n",
    "        cv2.line(frame, hip_pos, \n",
    "                 (int(left_hip.x * frame.shape[1]), int(left_hip.y * frame.shape[0])), \n",
    "                 line_color, line_thickness)  # 흰 선\n",
    "        cv2.line(frame, hip_pos, \n",
    "                 (int(right_hip.x * frame.shape[1]), int(right_hip.y * frame.shape[0])), \n",
    "                 line_color, line_thickness)  # 흰 선\n",
    "\n",
    "    \n",
    "    else:\n",
    "        # 랜드마크 정보가 없을 경우 NaN으로 채움\n",
    "        frame_data.extend([None, None] * len(selected_landmarks))\n",
    "        frame_data.extend([None, None])  # 목\n",
    "        frame_data.extend([None, None])  # 엉덩이\n",
    "\n",
    "    data.append(frame_data)\n",
    "\n",
    "    # 시각화 (옵션)\n",
    "#    if results.pose_landmarks:\n",
    "#        mp_drawing.draw_landmarks(frame, results.pose_landmarks, mp_pose.POSE_CONNECTIONS)\n",
    "    cv2.imshow('Pose Detection', frame)\n",
    "\n",
    "    if cv2.waitKey(1) & 0xFF == ord('q'):\n",
    "        break\n",
    "\n",
    "# 영상 및 리소스 해제\n",
    "cap.release()\n",
    "cv2.destroyAllWindows()\n",
    "pose.close()\n",
    "\n",
    "# 데이터를 CSV로 저장\n",
    "df = pd.DataFrame(data, columns=columns)\n",
    "df.to_csv(output_csv_path, index=False)\n",
    "\n",
    "print(f\"Joint 데이터를 {output_csv_path}에 저장했습니다.\")"
   ]
  },
  {
   "cell_type": "code",
   "execution_count": 3,
   "id": "74ef36c7-28e7-4ab1-8d6b-04f95d859d8b",
   "metadata": {},
   "outputs": [],
   "source": []
  },
  {
   "cell_type": "code",
   "execution_count": 11,
   "id": "5917cba8-83c1-4984-b7a0-4de0df4f30fb",
   "metadata": {},
   "outputs": [
    {
     "ename": "NameError",
     "evalue": "name 'filepath' is not defined",
     "output_type": "error",
     "traceback": [
      "\u001b[1;31m---------------------------------------------------------------------------\u001b[0m",
      "\u001b[1;31mNameError\u001b[0m                                 Traceback (most recent call last)",
      "Cell \u001b[1;32mIn[11], line 4\u001b[0m\n\u001b[0;32m      1\u001b[0m \u001b[38;5;28;01mimport\u001b[39;00m \u001b[38;5;21;01mos\u001b[39;00m\n\u001b[0;32m      3\u001b[0m os\u001b[38;5;241m.\u001b[39mchdir(\u001b[38;5;124m'\u001b[39m\u001b[38;5;124mC:\u001b[39m\u001b[38;5;130;01m\\\\\u001b[39;00m\u001b[38;5;124mUsers\u001b[39m\u001b[38;5;130;01m\\\\\u001b[39;00m\u001b[38;5;124mUSER\u001b[39m\u001b[38;5;130;01m\\\\\u001b[39;00m\u001b[38;5;124myogafire\u001b[39m\u001b[38;5;130;01m\\\\\u001b[39;00m\u001b[38;5;124mBPE\u001b[39m\u001b[38;5;124m'\u001b[39m)\n\u001b[1;32m----> 4\u001b[0m output \u001b[38;5;241m=\u001b[39m os\u001b[38;5;241m.\u001b[39mpopen(\u001b[38;5;124mf\u001b[39m\u001b[38;5;124m\"\u001b[39m\u001b[38;5;124mpython inference_pair.py -v1 \u001b[39m\u001b[38;5;132;01m{\u001b[39;00mfilepath\u001b[38;5;132;01m}\u001b[39;00m\u001b[38;5;124m.csv -v2 rightyogajoint/\u001b[39m\u001b[38;5;132;01m{\u001b[39;00mselect_yoga\u001b[38;5;132;01m}\u001b[39;00m\u001b[38;5;124m.csv\u001b[39m\u001b[38;5;124m\"\u001b[39m)\u001b[38;5;241m.\u001b[39mread()\n\u001b[0;32m      5\u001b[0m output\n",
      "\u001b[1;31mNameError\u001b[0m: name 'filepath' is not defined"
     ]
    }
   ],
   "source": [
    "import os\n",
    "\n",
    "#BPE 로 이동\n",
    "os.chdir('C:\\\\Users\\\\USER\\\\yogafire\\\\BPE')\n",
    "\n",
    "#BPE 안의 모델 파일 실행 / training 안에 방금 저장된 유저의 파일과 , rightyogajoint에 미리 저장해둔 요가 자세의 올바른 자세 joint 값과 비교 \n",
    "output = os.popen(f\"python inference_pair.py -v1 training/{filepath}.csv -v2 rightyogajoint/{select_yoga}.csv\").read()"
   ]
  },
  {
   "cell_type": "code",
   "execution_count": 2,
   "id": "db3b05e4-20a2-4ebe-b20d-732f40b4e16a",
   "metadata": {},
   "outputs": [],
   "source": [
    "#점수 조정을 위한 함수 (수정가능)\n",
    "\n",
    "def sigmoid(x):\n",
    "    return 1 / (1 + np.exp(-x+1))"
   ]
  },
  {
   "cell_type": "code",
   "execution_count": 17,
   "id": "e6b6f9ad-ef83-412b-9a58-feb9df5a2a68",
   "metadata": {},
   "outputs": [
    {
     "data": {
      "text/plain": [
       "40"
      ]
     },
     "execution_count": 17,
     "metadata": {},
     "output_type": "execute_result"
    }
   ],
   "source": [
    "# 실행된 결과에서 score만 가져오기\n",
    "\n",
    "list1 = output.split('\\n')\n",
    "score_str = list1[-2]\n",
    "\n",
    "# score 점수 조정\n",
    "score = ((round(sigmoid((float(score_str.split(' ')[-1])))*10)*10))\n",
    "score"
   ]
  },
  {
   "cell_type": "code",
   "execution_count": 19,
   "id": "c18f2e12-af5b-492c-8446-4c389dcc97a5",
   "metadata": {},
   "outputs": [
    {
     "data": {
      "text/plain": [
       "'Building model\\nC:\\\\Users\\\\USER\\\\yogafire\\\\BPE\\\\data\\\\model_epoch2.pth\\nLoading model from C:\\\\Users\\\\USER\\\\yogafire\\\\BPE\\\\data\\\\model_epoch2.pth\\nModel is ready\\nsimilarity score: 0.7815807\\n'"
      ]
     },
     "execution_count": 19,
     "metadata": {},
     "output_type": "execute_result"
    }
   ],
   "source": [
    "# 포멧팅이 아닌 그냥 테스트 데이터 삽입 (그냥 에시)\n",
    "\n",
    "# import os\n",
    "\n",
    "# output = os.popen(f\"python BPE/inference_pair.py -v1 BPE/training/input12.csv -v2 BPE/training/input16.csv\").read()\n",
    "# output"
   ]
  },
  {
   "cell_type": "code",
   "execution_count": null,
   "id": "9ec87dec-2769-48c6-8bdc-5f2c78ea8fe1",
   "metadata": {},
   "outputs": [],
   "source": []
  },
  {
   "cell_type": "code",
   "execution_count": null,
   "id": "89dc687a-ac8c-4dd8-9809-114a7d501967",
   "metadata": {},
   "outputs": [],
   "source": []
  },
  {
   "cell_type": "code",
   "execution_count": null,
   "id": "ed975929-e549-474a-b137-6942f32b8c9e",
   "metadata": {},
   "outputs": [],
   "source": []
  },
  {
   "cell_type": "code",
   "execution_count": null,
   "id": "802c3070-e8de-4ab3-9907-f0edd876849e",
   "metadata": {},
   "outputs": [],
   "source": []
  },
  {
   "cell_type": "code",
   "execution_count": null,
   "id": "5f672f51-d351-472e-bdfb-02f691164b9d",
   "metadata": {},
   "outputs": [],
   "source": []
  }
 ],
 "metadata": {
  "kernelspec": {
   "display_name": "Python 3 (ipykernel)",
   "language": "python",
   "name": "python3"
  },
  "language_info": {
   "codemirror_mode": {
    "name": "ipython",
    "version": 3
   },
   "file_extension": ".py",
   "mimetype": "text/x-python",
   "name": "python",
   "nbconvert_exporter": "python",
   "pygments_lexer": "ipython3",
   "version": "3.9.20"
  }
 },
 "nbformat": 4,
 "nbformat_minor": 5
}
